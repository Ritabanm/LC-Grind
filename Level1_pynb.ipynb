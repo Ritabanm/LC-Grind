{
  "nbformat": 4,
  "nbformat_minor": 0,
  "metadata": {
    "colab": {
      "provenance": [],
      "authorship_tag": "ABX9TyO+Rgwh2DBL9f2QwPq4WJ+O",
      "include_colab_link": true
    },
    "kernelspec": {
      "name": "python3",
      "display_name": "Python 3"
    },
    "language_info": {
      "name": "python"
    }
  },
  "cells": [
    {
      "cell_type": "markdown",
      "metadata": {
        "id": "view-in-github",
        "colab_type": "text"
      },
      "source": [
        "<a href=\"https://colab.research.google.com/github/Ritabanm/LC-Grind/blob/main/Level1_pynb.ipynb\" target=\"_parent\"><img src=\"https://colab.research.google.com/assets/colab-badge.svg\" alt=\"Open In Colab\"/></a>"
      ]
    },
    {
      "cell_type": "markdown",
      "source": [
        "# **Easy**"
      ],
      "metadata": {
        "id": "KTQ5jLzs1aok"
      }
    },
    {
      "cell_type": "markdown",
      "source": [
        "## 1**. [Two Sum](https://leetcode.com/problems/two-sum/description/)**\n",
        "\n",
        "Given an array of integers nums and an integer target, return indices of the two numbers such that they add up to target.\n",
        "\n",
        "You may assume that each input would have exactly one solution, and you may not use the same element twice.\n",
        "\n",
        "You can return the answer in any order.\n",
        "\n",
        "\n",
        "Example 1:\n",
        "\n",
        "Input: nums = [2,7,11,15], target = 9\n",
        "Output: [0,1]\n",
        "Explanation: Because nums[0] + nums[1] == 9, we return [0, 1].\n",
        "Example 2:\n",
        "\n",
        "Input: nums = [3,2,4], target = 6\n",
        "Output: [1,2]\n",
        "Example 3:\n",
        "\n",
        "Input: nums = [3,3], target = 6\n",
        "Output: [0,1]\n"
      ],
      "metadata": {
        "id": "5-jJjZB61MFE"
      }
    },
    {
      "cell_type": "code",
      "source": [
        "nums = [2,7,11,15]\n",
        "target = 9"
      ],
      "metadata": {
        "id": "ptkS3mnJ1omz"
      },
      "execution_count": null,
      "outputs": []
    },
    {
      "cell_type": "code",
      "execution_count": null,
      "metadata": {
        "id": "RsNNwH8J1JlG"
      },
      "outputs": [],
      "source": [
        "class Solution:\n",
        "    def twoSum(self, nums: List[int], target: int) -> List[int]:\n",
        "      for i in range(len(nums)):\n",
        "        for j in range(i+1,len(nums)):\n",
        "          if nums[i]+nums[j]==target:\n",
        "            return [i,j]\n"
      ]
    },
    {
      "cell_type": "markdown",
      "source": [
        "This code uses a brute-force approach with two nested loops to check all pairs of numbers in the array. If any pair sums to the target, it returns their indices; otherwise, it keeps searching.\n",
        "\n",
        "**Time Complexity:** O(N^2)\n",
        "**Space Complexity:** The space complexity of this solution is O(n), where\n",
        "𝑛 is the number of elements in the input list"
      ],
      "metadata": {
        "id": "65gMb-kj3z-I"
      }
    },
    {
      "cell_type": "markdown",
      "source": [
        "**Optimized Solution**: Use hashmap"
      ],
      "metadata": {
        "id": "VyX1hi-510bF"
      }
    },
    {
      "cell_type": "code",
      "source": [
        "from typing import List\n",
        "\n",
        "class Solution:\n",
        "    def twoSum(self, nums: List[int], target: int) -> List[int]:\n",
        "        hashmap = {}\n",
        "        for i in range(len(nums)):\n",
        "            complement = target - nums[i]\n",
        "            if complement in hashmap:\n",
        "                return [hashmap[complement], i]\n",
        "            hashmap[nums[i]] = i\n"
      ],
      "metadata": {
        "id": "6VRHdZ_E1k84"
      },
      "execution_count": null,
      "outputs": []
    },
    {
      "cell_type": "markdown",
      "source": [
        "This code solves the **Two Sum** problem in a single pass using a hashmap for efficiency. As we iterate through the array, we calculate the complement (target - current number) and check if it's in the hashmap. If found, we return the indices of the complement and the current number. Otherwise, we store the current number and its index in the hashmap.\n",
        "\n",
        "**Time complexity:** This approach ensures a time complexity of \\(O(n)\\).\n",
        "The space complexity of this solution is O(n), where 𝑛 n is the number of elements in the input list."
      ],
      "metadata": {
        "id": "I3SdAC553yDv"
      }
    },
    {
      "cell_type": "markdown",
      "source": [
        "**Testing code**"
      ],
      "metadata": {
        "id": "LRYkiXzE2VZa"
      }
    },
    {
      "cell_type": "code",
      "source": [
        "# Test case setup\n",
        "nums = [2, 7, 11, 15]\n",
        "target = 9\n",
        "\n",
        "# Create an instance of Solution and test the method\n",
        "solution = Solution()\n",
        "result = solution.twoSum(nums, target)\n",
        "\n",
        "# Print and validate the result\n",
        "print(f\"Test Case: nums = {nums}, target = {target}\")\n",
        "print(f\"Result: {result}\")\n",
        "\n",
        "# Assert the result is as expected\n",
        "expected_result = [0, 1]\n",
        "assert result == expected_result, f\"Test failed! Expected {expected_result}, but got {result}\"\n",
        "print(\"Test passed!\")\n"
      ],
      "metadata": {
        "colab": {
          "base_uri": "https://localhost:8080/"
        },
        "id": "mjXnN6IS2W5Z",
        "outputId": "4ff723f8-fd21-4b7f-fdc8-4b81021b149f"
      },
      "execution_count": null,
      "outputs": [
        {
          "output_type": "stream",
          "name": "stdout",
          "text": [
            "Test Case: nums = [2, 7, 11, 15], target = 9\n",
            "Result: [0, 1]\n",
            "Test passed!\n"
          ]
        }
      ]
    },
    {
      "cell_type": "markdown",
      "source": [
        "##  **1408. [String Matching in an Array](https://leetcode.com/problems/string-matching-in-an-array/description/)**\n",
        "\n",
        "Given an array of string words, return all strings in words that is a substring of another word. You can return the answer in any order.\n",
        "\n",
        "A substring is a contiguous sequence of characters within a string\n",
        "\n",
        "\n",
        "\n",
        "**Example 1:**\n",
        "\n",
        "Input: words = [\"mass\",\"as\",\"hero\",\"superhero\"]\n",
        "Output: [\"as\",\"hero\"]\n",
        "Explanation: \"as\" is substring of \"mass\" and \"hero\" is substring of \"superhero\".\n",
        "[\"hero\",\"as\"] is also a valid answer.\n",
        "Example 2:\n",
        "\n",
        "**Input**: words = [\"leetcode\",\"et\",\"code\"]\n",
        "**Output**: [\"et\",\"code\"]\n",
        "**Explanation:** \"et\", \"code\" are substring of \"leetcode\".\n",
        "\n",
        "\n",
        "**Example 3:**\n",
        "\n",
        "**Input:** words = [\"blue\",\"green\",\"bu\"]\n",
        "**Output**: []\n",
        "**Explanation:** No string of words is substring of another string."
      ],
      "metadata": {
        "id": "7WMiGferFdlL"
      }
    },
    {
      "cell_type": "code",
      "source": [
        "class Solution:\n",
        "    def stringMatching(self, words:List[str])-> List[str]:\n",
        "\n",
        "        result = []\n",
        "\n",
        "        for i in range(len(words)):\n",
        "\n",
        "            for j in range(len(words)):\n",
        "\n",
        "                if i==j:\n",
        "                    continue\n",
        "\n",
        "                if words[i] in words[j]:\n",
        "                    result.append(words[i])\n",
        "                    break\n",
        "        return result"
      ],
      "metadata": {
        "id": "v_irftlA2XQl"
      },
      "execution_count": null,
      "outputs": []
    },
    {
      "cell_type": "markdown",
      "source": [
        "**Summary:** The solution iterates through each word in the `words` list and checks if it is a substring of any other word using two nested loops. If a match is found, the word is added to the result list. The **time complexity** is \\( O(n^2 \\cdot k) \\), where \\( n \\) is the number of words and \\( k \\) is the average string length, and the **space complexity** is \\( O(m) \\), where \\( m \\) is the number of substrings in the result list."
      ],
      "metadata": {
        "id": "AdG1CJKkFy5Q"
      }
    },
    {
      "cell_type": "markdown",
      "source": [
        "3042. ## [Count Prefix and Suffix Pairs I](https://leetcode.com/problems/count-prefix-and-suffix-pairs-i/description/)\n",
        "\n",
        "\n",
        "You are given a 0-indexed string array words.\n",
        "\n",
        "Let's define a boolean function isPrefixAndSuffix that takes two strings, str1 and str2:\n",
        "\n",
        "isPrefixAndSuffix(str1, str2) returns true if str1 is both a\n",
        "prefix\n",
        " and a\n",
        "suffix\n",
        " of str2, and false otherwise.\n",
        "For example, isPrefixAndSuffix(\"aba\", \"ababa\") is true because \"aba\" is a prefix of \"ababa\" and also a suffix, but isPrefixAndSuffix(\"abc\", \"abcd\") is false.\n",
        "\n",
        "Return an integer denoting the number of index pairs (i, j) such that i < j, and isPrefixAndSuffix(words[i], words[j]) is true."
      ],
      "metadata": {
        "id": "etY_zxxu6Aqk"
      }
    },
    {
      "cell_type": "code",
      "source": [
        "from typing import List\n",
        "\n",
        "class Solution:\n",
        "    def countPrefixSuffixPairs(self, words: List[str]) -> int:\n",
        "        def isPrefixAndSuffix(str1: str, str2: str) -> bool:\n",
        "            return str2.startswith(str1) and str2.endswith(str1)\n",
        "\n",
        "        count = 0\n",
        "        n = len(words)\n",
        "        for i in range(n):\n",
        "            for j in range(i + 1, n):\n",
        "                if isPrefixAndSuffix(words[i], words[j]):\n",
        "                    count += 1\n",
        "        return count"
      ],
      "metadata": {
        "id": "MbhzKc6NHWL4"
      },
      "execution_count": null,
      "outputs": []
    },
    {
      "cell_type": "markdown",
      "source": [
        "The provided Python code solves the problem by counting the number of string pairs `(i, j)` in the array `words` where `words[i]` serves as both a prefix and a suffix of `words[j]` and `i < j`.\n",
        "\n",
        "Here's how the code works:\n",
        "1. **Helper Function:** `isPrefixAndSuffix` checks if one string is both a starting and ending segment of another.\n",
        "2. **Main Logic:** It iterates through all pairs of strings in `words`, uses `isPrefixAndSuffix` to check each pair, and increments a counter if the condition is met.\n",
        "3. **Return:** The total count of valid pairs is returned.\n",
        "\n",
        "### Complexity:\n",
        "- **Time Complexity:** \\(O(n^2 \\times m)\\), where \\(n\\) is the number of words and \\(m\\) is the average string length, due to the nested loops and string comparisons.\n",
        "- **Space Complexity:** \\(O(1)\\), as it uses constant extra space regardless of input size.\n",
        "\n",
        "This method is straightforward but potentially slow for large lists or long strings due to its quadratic time complexity."
      ],
      "metadata": {
        "id": "djB_aEGx2JJI"
      }
    },
    {
      "cell_type": "markdown",
      "source": [
        "[**Counting Words With a Given Prefix**](https://leetcode.com/problems/counting-words-with-a-given-prefix/description/?envType=daily-question&envId=2025-01-09://)\n",
        "\n"
      ],
      "metadata": {
        "id": "ltPMfRAZ2Kv_"
      }
    },
    {
      "cell_type": "code",
      "source": [
        "class Solution:\n",
        "    def prefixCount(self, words: List[str], pref: str) -> int:\n",
        "        N = len(pref)\n",
        "        res = 0\n",
        "\n",
        "        for w in words:\n",
        "            if w[:N]==pref:\n",
        "                res+=1\n",
        "        return res\n"
      ],
      "metadata": {
        "id": "14GOk5I22JZx"
      },
      "execution_count": null,
      "outputs": []
    },
    {
      "cell_type": "markdown",
      "source": [
        "The problem, \"Counting Words With a Given Prefix,\" asks to return the number of strings in a list that start with a given prefix. For example, with the input list `words = [\"pay\", \"attention\", \"practice\", \"attend\"]` and the prefix `pref = \"at\"`, the output should be `2` because the strings \"attention\" and \"attend\" start with \"at\".\n",
        "\n",
        "In the given code:\n",
        "- The function `prefixCount` takes two parameters, `words` (a list of strings) and `pref` (a string).\n",
        "- `N` is set to the length of `pref`.\n",
        "- A counter `res` is initialized to zero.\n",
        "- The function then iterates through each word in `words`.\n",
        "- For each word, it checks if the first `N` characters match the prefix using `w[:N]==pref`. If true, it increments the counter `res`.\n",
        "- Finally, it returns the count `res` which represents the number of words starting with the given prefix.\n",
        "\n",
        "This code effectively counts how many words in the list start with the specified prefix.\n",
        "\n",
        "\n",
        "Let's analyze the time and space complexity of the solution for the \"Counting Words With a Given Prefix\" problem:\n",
        "\n",
        "### Time Complexity:\n",
        "1. **Prefix Length Calculation:** The length of the prefix `pref` is calculated once, which is an O(1) operation since it’s a property lookup in Python.\n",
        "2. **Iteration Over `words`:** The function iterates over each word in the `words` list. If there are \\( n \\) words in the list, then the loop runs \\( n \\) times.\n",
        "3. **Substring Comparison:** For each word, the solution checks if the prefix `pref` matches the beginning of the word. This involves creating a substring of the word up to the length of `pref` (i.e., `w[:N]`) and then comparing this substring to `pref`. The creation of the substring is \\( O(p) \\), where \\( p \\) is the length of the prefix, and the comparison also takes \\( O(p) \\) time. Thus, each comparison effectively is \\( O(p) \\).\n",
        "\n",
        "Given these steps, the overall time complexity is the number of words \\( n \\) times the complexity of the substring operation and comparison for each word, resulting in a total time complexity of \\( O(n \\times p) \\).\n",
        "\n",
        "### Space Complexity:\n",
        "1. **Variables:** The space used for variables `N` and `res` is constant, \\( O(1) \\).\n",
        "2. **Substring Creation:** In each iteration of the loop, a new substring of length up to \\( p \\) is created. However, this substring is temporary and does not accumulate, as it is only used for the duration of the comparison.\n",
        "\n",
        "The significant factor here is the temporary space used for the substring in each loop iteration. Despite this, the space complexity remains \\( O(1) \\) because this space is reused for each word, and no additional space proportional to the input size is used permanently throughout the function's execution.\n",
        "\n",
        "In summary:\n",
        "- **Time Complexity:** \\( O(n \\times p) \\)\n",
        "- **Space Complexity:** \\( O(1) \\)\n",
        "\n",
        "This analysis shows that while the algorithm is efficient in terms of space, the time taken can grow linearly with both the number of words and the length of the prefix."
      ],
      "metadata": {
        "id": "m0qE05bA3F5G"
      }
    },
    {
      "cell_type": "code",
      "source": [],
      "metadata": {
        "id": "1r9bHUDG3Ski"
      },
      "execution_count": null,
      "outputs": []
    }
  ]
}