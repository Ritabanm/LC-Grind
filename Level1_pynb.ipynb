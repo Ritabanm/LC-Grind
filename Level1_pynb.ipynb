{
  "nbformat": 4,
  "nbformat_minor": 0,
  "metadata": {
    "colab": {
      "provenance": []
    },
    "kernelspec": {
      "name": "python3",
      "display_name": "Python 3"
    },
    "language_info": {
      "name": "python"
    }
  },
  "cells": [
    {
      "cell_type": "markdown",
      "source": [
        "# **Easy**"
      ],
      "metadata": {
        "id": "KTQ5jLzs1aok"
      }
    },
    {
      "cell_type": "markdown",
      "source": [
        "## 1**. [Two Sum](https://leetcode.com/problems/two-sum/description/)**\n",
        "\n",
        "Given an array of integers nums and an integer target, return indices of the two numbers such that they add up to target.\n",
        "\n",
        "You may assume that each input would have exactly one solution, and you may not use the same element twice.\n",
        "\n",
        "You can return the answer in any order.\n",
        "\n",
        "\n",
        "Example 1:\n",
        "\n",
        "Input: nums = [2,7,11,15], target = 9\n",
        "Output: [0,1]\n",
        "Explanation: Because nums[0] + nums[1] == 9, we return [0, 1].\n",
        "Example 2:\n",
        "\n",
        "Input: nums = [3,2,4], target = 6\n",
        "Output: [1,2]\n",
        "Example 3:\n",
        "\n",
        "Input: nums = [3,3], target = 6\n",
        "Output: [0,1]\n"
      ],
      "metadata": {
        "id": "5-jJjZB61MFE"
      }
    },
    {
      "cell_type": "code",
      "source": [
        "nums = [2,7,11,15]\n",
        "target = 9"
      ],
      "metadata": {
        "id": "ptkS3mnJ1omz"
      },
      "execution_count": 8,
      "outputs": []
    },
    {
      "cell_type": "code",
      "execution_count": 14,
      "metadata": {
        "id": "RsNNwH8J1JlG"
      },
      "outputs": [],
      "source": [
        "class Solution:\n",
        "    def twoSum(self, nums: List[int], target: int) -> List[int]:\n",
        "      for i in range(len(nums)):\n",
        "        for j in range(i+1,len(nums)):\n",
        "          if nums[i]+nums[j]==target:\n",
        "            return [i,j]\n"
      ]
    },
    {
      "cell_type": "markdown",
      "source": [
        "**Optimized Solution**: Use hashmap"
      ],
      "metadata": {
        "id": "VyX1hi-510bF"
      }
    },
    {
      "cell_type": "code",
      "source": [
        "from typing import List\n",
        "\n",
        "class Solution:\n",
        "    def twoSum(self, nums: List[int], target: int) -> List[int]:\n",
        "        hashmap = {}\n",
        "        for i in range(len(nums)):\n",
        "            complement = target - nums[i]\n",
        "            if complement in hashmap:\n",
        "                return [hashmap[complement], i]\n",
        "            hashmap[nums[i]] = i\n"
      ],
      "metadata": {
        "id": "6VRHdZ_E1k84"
      },
      "execution_count": 12,
      "outputs": []
    },
    {
      "cell_type": "markdown",
      "source": [
        "**Testing code**"
      ],
      "metadata": {
        "id": "LRYkiXzE2VZa"
      }
    },
    {
      "cell_type": "code",
      "source": [
        "# Test case setup\n",
        "nums = [2, 7, 11, 15]\n",
        "target = 9\n",
        "\n",
        "# Create an instance of Solution and test the method\n",
        "solution = Solution()\n",
        "result = solution.twoSum(nums, target)\n",
        "\n",
        "# Print and validate the result\n",
        "print(f\"Test Case: nums = {nums}, target = {target}\")\n",
        "print(f\"Result: {result}\")\n",
        "\n",
        "# Assert the result is as expected\n",
        "expected_result = [0, 1]\n",
        "assert result == expected_result, f\"Test failed! Expected {expected_result}, but got {result}\"\n",
        "print(\"Test passed!\")\n"
      ],
      "metadata": {
        "colab": {
          "base_uri": "https://localhost:8080/"
        },
        "id": "mjXnN6IS2W5Z",
        "outputId": "4ff723f8-fd21-4b7f-fdc8-4b81021b149f"
      },
      "execution_count": 13,
      "outputs": [
        {
          "output_type": "stream",
          "name": "stdout",
          "text": [
            "Test Case: nums = [2, 7, 11, 15], target = 9\n",
            "Result: [0, 1]\n",
            "Test passed!\n"
          ]
        }
      ]
    },
    {
      "cell_type": "code",
      "source": [],
      "metadata": {
        "id": "v_irftlA2XQl"
      },
      "execution_count": null,
      "outputs": []
    }
  ]
}