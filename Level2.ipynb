{
  "nbformat": 4,
  "nbformat_minor": 0,
  "metadata": {
    "colab": {
      "provenance": [],
      "authorship_tag": "ABX9TyPCOLJXd536ktvlHwAF4F5c",
      "include_colab_link": true
    },
    "kernelspec": {
      "name": "python3",
      "display_name": "Python 3"
    },
    "language_info": {
      "name": "python"
    }
  },
  "cells": [
    {
      "cell_type": "markdown",
      "metadata": {
        "id": "view-in-github",
        "colab_type": "text"
      },
      "source": [
        "<a href=\"https://colab.research.google.com/github/Ritabanm/LC-Grind/blob/main/Level2.ipynb\" target=\"_parent\"><img src=\"https://colab.research.google.com/assets/colab-badge.svg\" alt=\"Open In Colab\"/></a>"
      ]
    },
    {
      "cell_type": "markdown",
      "source": [
        "# **Medium**"
      ],
      "metadata": {
        "id": "IwtKVVqoSbjz"
      }
    },
    {
      "cell_type": "markdown",
      "source": [
        "**[647. Palindromic Substrings](https://leetcode.com/problems/palindromic-substrings/description/)**\n",
        "\n",
        "Given a string s, return the number of palindromic substrings in it.\n",
        "\n",
        "A string is a palindrome when it reads the same backward as forward.\n",
        "\n",
        "A substring is a contiguous sequence of characters within the string.\n",
        "\n",
        "\n",
        "\n",
        "Example 1:\n",
        "\n",
        "Input: s = \"abc\"\n",
        "Output: 3\n",
        "Explanation: Three palindromic strings: \"a\", \"b\", \"c\".\n",
        "Example 2:\n",
        "\n",
        "Input: s = \"aaa\"\n",
        "Output: 6\n",
        "Explanation: Six palindromic strings: \"a\", \"a\", \"a\", \"aa\", \"aa\", \"aaa\".\n"
      ],
      "metadata": {
        "id": "Hsx9qcMESbhg"
      }
    },
    {
      "cell_type": "code",
      "execution_count": 7,
      "metadata": {
        "id": "Uq6rS_6PSYqJ"
      },
      "outputs": [],
      "source": [
        "class Solution:\n",
        "    def countSubstrings(self, s: str) -> int:\n",
        "        res = 0\n",
        "        for i in range(len(s)):\n",
        "            l = r = i\n",
        "            while l>=0 and r<len(s) and s[l] == s[r]:\n",
        "                res+=1\n",
        "                l-=1\n",
        "                r+=1\n",
        "            l = i\n",
        "            r = i+1\n",
        "            while l>=0 and r<len(s) and s[l]==s[r]:\n",
        "                res+=1\n",
        "                l-=1\n",
        "                r+=1\n",
        "        return res"
      ]
    },
    {
      "cell_type": "markdown",
      "source": [
        "### **Summary:**\n",
        "\n",
        "This Python solution uses two nested loops to count the number of substrings in a given string `s` that are palindromes. It iterates over each character in the string and expands outwards to find all possible palindromic substrings. The outer loop moves towards the start of the string, while the inner loop moves towards the end.\n",
        "\n",
        "**Time complexity:** O(n^2), where n is the length of the input string `s`. This is because there are two nested loops that iterate over each character in the string.\n",
        "\n",
        "**Space complexity:** O(1), as only a constant amount of space is used to store variables like `res` and the indices `l`, `r`, and `i`.\n"
      ],
      "metadata": {
        "id": "aAg9z7TyTy5M"
      }
    },
    {
      "cell_type": "markdown",
      "source": [
        "**[2270. Number of Ways to Split Array](https://leetcode.com/problems/number-of-ways-to-split-array/description/)**\n",
        "\n",
        "\n",
        "You are given a 0-indexed integer array nums of length n.\n",
        "\n",
        "nums contains a valid split at index i if the following are true:\n",
        "\n",
        "The sum of the first i + 1 elements is greater than or equal to the sum of the last n - i - 1 elements.\n",
        "There is at least one element to the right of i. That is, 0 <= i < n - 1.\n",
        "Return the number of valid splits in nums.\n",
        "\n",
        "\n",
        "\n",
        "Example 1:\n",
        "\n",
        "Input: nums = [10,4,-8,7]\n",
        "Output: 2\n",
        "Explanation:\n",
        "There are three ways of splitting nums into two non-empty parts:\n",
        "- Split nums at index 0. Then, the first part is [10], and its sum is 10. The second part is [4,-8,7], and its sum is 3. Since 10 >= 3, i = 0 is a valid split.\n",
        "- Split nums at index 1. Then, the first part is [10,4], and its sum is 14. The second part is [-8,7], and its sum is -1. Since 14 >= -1, i = 1 is a valid split.\n",
        "- Split nums at index 2. Then, the first part is [10,4,-8], and its sum is 6. The second part is [7], and its sum is 7. Since 6 < 7, i ="
      ],
      "metadata": {
        "id": "wW1xOt1b3K6B"
      }
    },
    {
      "cell_type": "code",
      "source": [
        "List = [10,4,-8,7]\n",
        "class Solution:\n",
        "    def waysToSplitArray(self, nums: list[int]) -> int: # Changed List[int] to list[int]\n",
        "        right = sum(nums)\n",
        "        left = 0\n",
        "        res = 0\n",
        "        for i in range(len(nums)-1):\n",
        "            left+=nums[i]\n",
        "            right-=nums[i]\n",
        "            res +=1 if left>=right else 0\n",
        "        return res\n",
        "Solution.waysToSplitArray(Solution,List)"
      ],
      "metadata": {
        "id": "cNQLWE8MUYHG",
        "outputId": "79dfe666-8dbc-4c77-f637-0d6e34dbcb87",
        "colab": {
          "base_uri": "https://localhost:8080/"
        }
      },
      "execution_count": 20,
      "outputs": [
        {
          "output_type": "execute_result",
          "data": {
            "text/plain": [
              "2"
            ]
          },
          "metadata": {},
          "execution_count": 20
        }
      ]
    },
    {
      "cell_type": "markdown",
      "source": [
        "## **Summary**\n",
        "**Initialize Sums:** Compute the total sum of the array (right) and initialize the left sum (left) as 0.\n",
        "\n",
        "**Iterate and Compare:** For each index, transfer the current element from right to left, and check if left >= right.\n",
        "\n",
        "**Count Valid Splits**: Increment the result count for every valid split where the condition holds.\n",
        "\n",
        "**Time Complexity:**\n",
        "\n",
        "**O(n):** The algorithm iterates through the array once, performing constant-time operations at each step.\n",
        "\n",
        "**Space Complexity:**\n",
        "\n",
        "**O(1):** Only a few variables (left, right, res) are used, and no additional data structures are required."
      ],
      "metadata": {
        "id": "Ye344uat8_89"
      }
    },
    {
      "cell_type": "code",
      "source": [],
      "metadata": {
        "id": "IGAs_7NT4nG3"
      },
      "execution_count": null,
      "outputs": []
    }
  ]
}