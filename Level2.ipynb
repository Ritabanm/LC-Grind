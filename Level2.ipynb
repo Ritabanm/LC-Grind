{
  "nbformat": 4,
  "nbformat_minor": 0,
  "metadata": {
    "colab": {
      "provenance": [],
      "authorship_tag": "ABX9TyMltUoqFrPIDlK2sSM69i29",
      "include_colab_link": true
    },
    "kernelspec": {
      "name": "python3",
      "display_name": "Python 3"
    },
    "language_info": {
      "name": "python"
    }
  },
  "cells": [
    {
      "cell_type": "markdown",
      "metadata": {
        "id": "view-in-github",
        "colab_type": "text"
      },
      "source": [
        "<a href=\"https://colab.research.google.com/github/Ritabanm/LC-Grind/blob/main/Level2.ipynb\" target=\"_parent\"><img src=\"https://colab.research.google.com/assets/colab-badge.svg\" alt=\"Open In Colab\"/></a>"
      ]
    },
    {
      "cell_type": "markdown",
      "source": [
        "# **Medium**"
      ],
      "metadata": {
        "id": "IwtKVVqoSbjz"
      }
    },
    {
      "cell_type": "markdown",
      "source": [
        "**[647. Palindromic Substrings](https://leetcode.com/problems/palindromic-substrings/description/)**\n",
        "\n",
        "Given a string s, return the number of palindromic substrings in it.\n",
        "\n",
        "A string is a palindrome when it reads the same backward as forward.\n",
        "\n",
        "A substring is a contiguous sequence of characters within the string.\n",
        "\n",
        "\n",
        "\n",
        "Example 1:\n",
        "\n",
        "Input: s = \"abc\"\n",
        "Output: 3\n",
        "Explanation: Three palindromic strings: \"a\", \"b\", \"c\".\n",
        "Example 2:\n",
        "\n",
        "Input: s = \"aaa\"\n",
        "Output: 6\n",
        "Explanation: Six palindromic strings: \"a\", \"a\", \"a\", \"aa\", \"aa\", \"aaa\".\n"
      ],
      "metadata": {
        "id": "Hsx9qcMESbhg"
      }
    },
    {
      "cell_type": "code",
      "execution_count": 1,
      "metadata": {
        "id": "Uq6rS_6PSYqJ"
      },
      "outputs": [],
      "source": [
        "class Solution:\n",
        "    def countSubstrings(self, s: str) -> int:\n",
        "        res = 0\n",
        "        for i in range(len(s)):\n",
        "            l = r = i\n",
        "            while l>=0 and r<len(s) and s[l] == s[r]:\n",
        "                res+=1\n",
        "                l-=1\n",
        "                r+=1\n",
        "            l = i\n",
        "            r = i+1\n",
        "            while l>=0 and r<len(s) and s[l]==s[r]:\n",
        "                res+=1\n",
        "                l-=1\n",
        "                r+=1\n",
        "        return res"
      ]
    },
    {
      "cell_type": "markdown",
      "source": [
        "**Explanation:**\n",
        "\n",
        "This Python solution uses two nested loops to count the number of substrings in a given string `s` that are palindromes. It iterates over each character in the string and expands outwards to find all possible palindromic substrings. The outer loop moves towards the start of the string, while the inner loop moves towards the end.\n",
        "\n",
        "Time complexity: O(n^2), where n is the length of the input string `s`. This is because there are two nested loops that iterate over each character in the string.\n",
        "\n",
        "Space complexity: O(1), as only a constant amount of space is used to store variables like `res` and the indices `l`, `r`, and `i`.\n"
      ],
      "metadata": {
        "id": "aAg9z7TyTy5M"
      }
    },
    {
      "cell_type": "code",
      "source": [],
      "metadata": {
        "id": "cNQLWE8MUYHG"
      },
      "execution_count": null,
      "outputs": []
    }
  ]
}