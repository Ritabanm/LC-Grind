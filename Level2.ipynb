{
  "nbformat": 4,
  "nbformat_minor": 0,
  "metadata": {
    "colab": {
      "provenance": [],
      "authorship_tag": "ABX9TyPQkY5XJS6h+2gY6yevWOnK",
      "include_colab_link": true
    },
    "kernelspec": {
      "name": "python3",
      "display_name": "Python 3"
    },
    "language_info": {
      "name": "python"
    }
  },
  "cells": [
    {
      "cell_type": "markdown",
      "metadata": {
        "id": "view-in-github",
        "colab_type": "text"
      },
      "source": [
        "<a href=\"https://colab.research.google.com/github/Ritabanm/LC-Grind/blob/main/Level2.ipynb\" target=\"_parent\"><img src=\"https://colab.research.google.com/assets/colab-badge.svg\" alt=\"Open In Colab\"/></a>"
      ]
    },
    {
      "cell_type": "markdown",
      "source": [
        "# **Medium**"
      ],
      "metadata": {
        "id": "IwtKVVqoSbjz"
      }
    },
    {
      "cell_type": "markdown",
      "source": [
        "### **[647. Palindromic Substrings](https://leetcode.com/problems/palindromic-substrings/description/)**\n",
        "\n",
        "Given a string s, return the number of palindromic substrings in it.\n",
        "\n",
        "A string is a palindrome when it reads the same backward as forward.\n",
        "\n",
        "A substring is a contiguous sequence of characters within the string.\n",
        "\n",
        "\n",
        "\n",
        "Example 1:\n",
        "\n",
        "Input: s = \"abc\"\n",
        "Output: 3\n",
        "Explanation: Three palindromic strings: \"a\", \"b\", \"c\".\n",
        "Example 2:\n",
        "\n",
        "Input: s = \"aaa\"\n",
        "Output: 6\n",
        "Explanation: Six palindromic strings: \"a\", \"a\", \"a\", \"aa\", \"aa\", \"aaa\".\n"
      ],
      "metadata": {
        "id": "Hsx9qcMESbhg"
      }
    },
    {
      "cell_type": "code",
      "execution_count": null,
      "metadata": {
        "id": "Uq6rS_6PSYqJ"
      },
      "outputs": [],
      "source": [
        "class Solution:\n",
        "    def countSubstrings(self, s: str) -> int:\n",
        "        res = 0\n",
        "        for i in range(len(s)):\n",
        "            l = r = i\n",
        "            while l>=0 and r<len(s) and s[l] == s[r]:\n",
        "                res+=1\n",
        "                l-=1\n",
        "                r+=1\n",
        "            l = i\n",
        "            r = i+1\n",
        "            while l>=0 and r<len(s) and s[l]==s[r]:\n",
        "                res+=1\n",
        "                l-=1\n",
        "                r+=1\n",
        "        return res"
      ]
    },
    {
      "cell_type": "markdown",
      "source": [
        "### **Summary:**\n",
        "\n",
        "This Python solution uses two nested loops to count the number of substrings in a given string `s` that are palindromes. It iterates over each character in the string and expands outwards to find all possible palindromic substrings. The outer loop moves towards the start of the string, while the inner loop moves towards the end.\n",
        "\n",
        "**Time complexity:** O(n^2), where n is the length of the input string `s`. This is because there are two nested loops that iterate over each character in the string.\n",
        "\n",
        "**Space complexity:** O(1), as only a constant amount of space is used to store variables like `res` and the indices `l`, `r`, and `i`.\n"
      ],
      "metadata": {
        "id": "aAg9z7TyTy5M"
      }
    },
    {
      "cell_type": "markdown",
      "source": [
        "### **[2270. Number of Ways to Split Array](https://leetcode.com/problems/number-of-ways-to-split-array/description/)**\n",
        "\n",
        "\n",
        "You are given a 0-indexed integer array nums of length n.\n",
        "\n",
        "nums contains a valid split at index i if the following are true:\n",
        "\n",
        "The sum of the first i + 1 elements is greater than or equal to the sum of the last n - i - 1 elements.\n",
        "There is at least one element to the right of i. That is, 0 <= i < n - 1.\n",
        "Return the number of valid splits in nums.\n",
        "\n",
        "\n",
        "\n",
        "Example 1:\n",
        "\n",
        "Input: nums = [10,4,-8,7]\n",
        "Output: 2\n",
        "Explanation:\n",
        "There are three ways of splitting nums into two non-empty parts:\n",
        "- Split nums at index 0. Then, the first part is [10], and its sum is 10. The second part is [4,-8,7], and its sum is 3. Since 10 >= 3, i = 0 is a valid split.\n",
        "- Split nums at index 1. Then, the first part is [10,4], and its sum is 14. The second part is [-8,7], and its sum is -1. Since 14 >= -1, i = 1 is a valid split.\n",
        "- Split nums at index 2. Then, the first part is [10,4,-8], and its sum is 6. The second part is [7], and its sum is 7. Since 6 < 7, i ="
      ],
      "metadata": {
        "id": "wW1xOt1b3K6B"
      }
    },
    {
      "cell_type": "code",
      "source": [
        "List = [10,4,-8,7]\n",
        "class Solution:\n",
        "    def waysToSplitArray(self, nums: list[int]) -> int:\n",
        "        right = sum(nums)\n",
        "        left = 0\n",
        "        res = 0\n",
        "        for i in range(len(nums)-1):\n",
        "            left+=nums[i]\n",
        "            right-=nums[i]\n",
        "            res +=1 if left>=right else 0\n",
        "        return res\n",
        "Solution.waysToSplitArray(Solution,List)"
      ],
      "metadata": {
        "id": "cNQLWE8MUYHG",
        "colab": {
          "base_uri": "https://localhost:8080/"
        },
        "outputId": "79dfe666-8dbc-4c77-f637-0d6e34dbcb87"
      },
      "execution_count": null,
      "outputs": [
        {
          "output_type": "execute_result",
          "data": {
            "text/plain": [
              "2"
            ]
          },
          "metadata": {},
          "execution_count": 20
        }
      ]
    },
    {
      "cell_type": "markdown",
      "source": [
        "## **Summary**\n",
        "**Initialize Sums:** Compute the total sum of the array (right) and initialize the left sum (left) as 0.\n",
        "\n",
        "**Iterate and Compare:** For each index, transfer the current element from right to left, and check if left >= right.\n",
        "\n",
        "**Count Valid Splits**: Increment the result count for every valid split where the condition holds.\n",
        "\n",
        "**Time Complexity:**\n",
        "\n",
        "**O(n):** The algorithm iterates through the array once, performing constant-time operations at each step.\n",
        "\n",
        "**Space Complexity:**\n",
        "\n",
        "**O(1):** Only a few variables (left, right, res) are used, and no additional data structures are required."
      ],
      "metadata": {
        "id": "Ye344uat8_89"
      }
    },
    {
      "cell_type": "markdown",
      "source": [
        "### 1769. **[Minimum Number of Operations to Move All Balls to Each Box](https://leetcode.com/problems/minimum-number-of-operations-to-move-all-balls-to-each-box/description/)**"
      ],
      "metadata": {
        "id": "9IHntXX3Fwpx"
      }
    },
    {
      "cell_type": "code",
      "source": [
        "class Solution:\n",
        "    def minOperations(self, boxes: str) -> List[int]:\n",
        "        res = [0]*len(boxes)\n",
        "        balls, moves = 0,0\n",
        "        for i in range(len(boxes)):\n",
        "            res[i] = balls+moves\n",
        "\n",
        "            moves = moves+balls\n",
        "            balls +=int(boxes[i])\n",
        "        balls, moves = 0,0\n",
        "        for i in reversed(range(len(boxes))):\n",
        "            res[i]+=balls+moves\n",
        "            moves = moves+balls\n",
        "            balls +=int(boxes[i])\n",
        "        return res"
      ],
      "metadata": {
        "id": "IGAs_7NT4nG3"
      },
      "execution_count": null,
      "outputs": []
    },
    {
      "cell_type": "markdown",
      "source": [
        "\n",
        "The provided Python code calculates the minimum number of operations required to move all \"balls\" in a string representation of boxes, where each box can contain a ball ('1') or no ball ('0'). The objective is to find out how many moves are required for each box to contain all the balls.\n",
        "\n",
        "Explanation of the Code:\n",
        "\n",
        "Initialization:\n",
        "\n",
        "res: A list initialized to zeros with the same length as boxes. It stores the result, i.e., the number of operations needed for each box.\n",
        "balls: A counter for the number of balls to the left of the current box.\n",
        "moves: Accumulates the total number of moves needed to bring all previous balls to the current position.\n",
        "First Pass (Left to Right):\n",
        "\n",
        "Iterate over each box from left to right.\n",
        "res[i] is updated with the sum of balls and moves. This captures the moves required to bring all balls from the left up to the current box.\n",
        "Update moves to include the current count of balls, because moving to the next box will require that many more moves.\n",
        "Update balls by adding the current box's balls (int(boxes[i])).\n",
        "Second Pass (Right to Left):\n",
        "\n",
        "Reset balls and moves to zero.\n",
        "Iterate over each box from right to left.\n",
        "Accumulate results in res[i] with the total moves needed to bring all balls from the right to the current box.\n",
        "Update moves and balls similarly to the first pass, but moving in reverse.\n",
        "\n",
        "**Time Complexity:**\n",
        "O(n): The algorithm performs two linear passes over the input string boxes. Each pass processes each box exactly once, resulting in a linear runtime relative to the size of the input.\n",
        "\n",
        "\n",
        "**Space Complexity:**\n",
        "O(n): Additional space is primarily used by the res list, which has the same length as the input string boxes. No other significant auxiliary space is used, so the space complexity is linear with respect to the input size.\n",
        "This method efficiently calculates the required moves for each box using a simple two-pass approach, optimizing the operation count by accumulating movement costs progressively from both directions."
      ],
      "metadata": {
        "id": "g-MfACGTDELe"
      }
    },
    {
      "cell_type": "code",
      "source": [],
      "metadata": {
        "id": "OhmDGQwh0a3D"
      },
      "execution_count": null,
      "outputs": []
    },
    {
      "cell_type": "markdown",
      "source": [
        "## **916. [Word Subsets](https://leetcode.com/problems/word-subsets/description/?envType=daily-question&envId=2025-01-10)**\n",
        "\n",
        "\n",
        "\n",
        "You are given two string arrays words1 and words2.\n",
        "\n",
        "A string b is a subset of string a if every letter in b occurs in a including multiplicity.\n",
        "\n",
        "For example, \"wrr\" is a subset of \"warrior\" but is not a subset of \"world\".\n",
        "A string a from words1 is universal if for every string b in words2, b is a subset of a.\n",
        "\n",
        "Return an array of all the universal strings in words1. You may return the answer in any order.\n",
        "\n",
        "\n",
        "\n",
        "**Example 1:**\n",
        "\n",
        "**Input:** words1 = [\"amazon\",\"apple\",\"facebook\",\"google\",\"leetcode\"], words2 = [\"e\",\"o\"]\n",
        "**Output:** [\"facebook\",\"google\",\"leetcode\"]\n",
        "\n",
        "**Example 2:**\n",
        "\n",
        "**Input:** words1 = [\"amazon\",\"apple\",\"facebook\",\"google\",\"leetcode\"], words2 = [\"l\",\"e\"]\n",
        "**Output:** [\"apple\",\"google\",\"leetcode\"]"
      ],
      "metadata": {
        "id": "Lj_LJ4P40bFZ"
      }
    },
    {
      "cell_type": "code",
      "source": [
        "class Solution:\n",
        "    def wordSubsets(self, words1: List[str], words2: List[str]) -> List[str]:\n",
        "        count_2 = defaultdict(int)\n",
        "        # Build the max frequency counter for all characters in words2\n",
        "        for w in words2:\n",
        "            count_w = Counter(w)\n",
        "            for c, cnt in count_w.items():\n",
        "                count_2[c] = max(count_2[c], cnt)\n",
        "\n",
        "        res = []\n",
        "        # Check each word in words1 if it meets the requirement\n",
        "        for w in words1:\n",
        "            count_w = Counter(w)\n",
        "            flag = True\n",
        "            for c, cnt in count_2.items():\n",
        "                if count_w[c] < cnt:\n",
        "                    flag = False\n",
        "                    break\n",
        "            # Append to result outside the character check loop\n",
        "            if flag:\n",
        "                res.append(w)\n",
        "        return res\n"
      ],
      "metadata": {
        "id": "tbvkQHno0jpq"
      },
      "execution_count": null,
      "outputs": []
    },
    {
      "cell_type": "markdown",
      "source": [
        "* We first create a count_2 dictionary that holds the highest number of times each character needs to appear across all words2 strings.\n",
        "\n",
        "* Then, for each word in words1, we create a frequency counter and check if it meets or exceeds the counts specified in count_2 for every character.\n",
        "\n",
        "* Only if a word satisfies all these conditions (flag remains True after checking all characters), it is considered universal and added to the result list.\n",
        "\n",
        "Certainly! Here's a brief overview of the time and space complexity for the solution:\n",
        "\n",
        "### **Time Complexity**\n",
        "- **Building the maximum frequency counter (`count_2`) for `words2`**: \\(O(N_2 \\times M_2)\\), where \\(N_2\\) is the number of words in `words2` and \\(M_2\\) is the average length of these words.\n",
        "- **Checking each word in `words1` against `count_2`**: \\(O(N_1 \\times (M_1 + K))\\), where \\(N_1\\) is the number of words in `words1`, \\(M_1\\) is the average length of these words, and \\(K\\) is the number of unique characters in all `words2`.\n",
        "\n",
        "Overall, the time complexity is \\(O(N_2 \\times M_2 + N_1 \\times (M_1 + K))\\).\n",
        "\n",
        "### **Space Complexity**\n",
        "- **For `count_2`**: \\(O(K)\\), where \\(K\\) is the number of unique characters across all `words2`.\n",
        "- **Temporary space for counters and result list**: Proportional to the unique characters in the processed word plus the space for storing results, which could include all words from `words1` in the worst case.\n",
        "\n",
        "Overall, the space complexity is \\(O(K + N_1)\\), where \\(K\\) includes the space for the maximum frequency counter and \\(N_1\\) is for storing the output list."
      ],
      "metadata": {
        "id": "TGbU2-lP1Us2"
      }
    },
    {
      "cell_type": "code",
      "source": [],
      "metadata": {
        "id": "_TdNuib51YmW"
      },
      "execution_count": null,
      "outputs": []
    },
    {
      "cell_type": "markdown",
      "source": [
        "## **[Construct K Palindrome Strings](https://leetcode.com/problems/construct-k-palindrome-strings/description/?envType=daily-question&envId=2025-01-11)**\n",
        "\n",
        "\n",
        "Given a string s and an integer k, return true if you can use all the characters in s to construct k palindrome strings or false otherwise.\n",
        "\n",
        "\n",
        "\n",
        "Example 1:\n",
        "\n",
        "Input: s = \"annabelle\", k = 2\n",
        "Output: true\n",
        "Explanation: You can construct two palindromes using all characters in s.\n",
        "Some possible constructions \"anna\" + \"elble\", \"anbna\" + \"elle\", \"anellena\" + \"b\"\n",
        "Example 2:\n",
        "\n",
        "Input: s = \"leetcode\", k = 3\n",
        "Output: false\n",
        "Explanation: It is impossible to construct 3 palindromes using all the characters of s.\n",
        "Example 3:\n",
        "\n",
        "Input: s = \"true\", k = 4\n",
        "Output: true\n",
        "Explanation: The only possible solution is to put each character in a separate string.\n"
      ],
      "metadata": {
        "id": "c6o3NNm6LUAs"
      }
    },
    {
      "cell_type": "code",
      "source": [
        "class Solution:\n",
        "    def canConstruct(self, s: str, k: int) -> bool:\n",
        "        if k>len(s):\n",
        "            return False\n",
        "\n",
        "        freq = Counter(s)\n",
        "        odd_count = sum(1 for count in freq.values() if count%2!=0)\n",
        "        return odd_count<=k"
      ],
      "metadata": {
        "id": "JQjaBEl2LYFt"
      },
      "execution_count": null,
      "outputs": []
    },
    {
      "cell_type": "markdown",
      "source": [
        "### Explanation:\n",
        "\n",
        "Key Observations:\n",
        "Palindrome Properties:\n",
        "\n",
        "A palindrome reads the same backward as forward.\n",
        "In a palindrome:\n",
        "At most one character can have an odd frequency (for the center).\n",
        "All other characters must have even frequencies (to balance both sides).\n",
        "Feasibility:\n",
        "\n",
        "If\n",
        "𝑘\n",
        ">\n",
        "len\n",
        "(\n",
        "𝑠\n",
        ")\n",
        "k>len(s), it's impossible to construct\n",
        "𝑘\n",
        "k palindromes because we don't have enough characters.\n",
        "The minimum number of palindromes required is equal to the number of characters with odd frequencies because each such character must occupy the center of a separate palindrome.\n",
        "Algorithm:\n",
        "Frequency Count:\n",
        "\n",
        "Count the frequency of each character in\n",
        "𝑠\n",
        "s using a hash map.\n",
        "Count Odd Frequencies:\n",
        "\n",
        "Count how many characters have an odd frequency.\n",
        "Check Feasibility:\n",
        "If\n",
        "𝑘\n",
        ">\n",
        "len\n",
        "(\n",
        "𝑠\n",
        ")\n",
        "k>len(s), return False (not enough characters to create\n",
        "𝑘\n",
        "k palindromes).\n",
        "Otherwise, return True.\n",
        ")\n",
        "\n",
        "\n",
        "\n",
        "\n",
        "### **Complexity**:\n",
        "\n",
        "Time: O(n)\n",
        "\n",
        "Space: O(1)\n"
      ],
      "metadata": {
        "id": "WKxzkn3nMQE8"
      }
    },
    {
      "cell_type": "code",
      "source": [],
      "metadata": {
        "id": "58XmztsTMq6F"
      },
      "execution_count": null,
      "outputs": []
    },
    {
      "cell_type": "markdown",
      "source": [
        "### **[934. Shortest Bridge](https://leetcode.com/problems/shortest-bridge/description/?envType=company&envId=facebook&favoriteSlug=facebook-thirty-days)**\n",
        "\n",
        "\n",
        "You are given an n x n binary matrix grid where 1 represents land and 0 represents water.\n",
        "\n",
        "An island is a 4-directionally connected group of 1's not connected to any other 1's. There are exactly two islands in grid.\n",
        "\n",
        "You may change 0's to 1's to connect the two islands to form one island.\n",
        "\n",
        "Return the smallest number of 0's you must flip to connect the two islands.\n",
        "\n",
        "\n",
        "\n",
        "Example 1:\n",
        "\n",
        "Input: grid = [[0,1],[1,0]]\n",
        "Output: 1\n",
        "Example 2:\n",
        "\n",
        "Input: grid = [[0,1,0],[0,0,0],[0,0,1]]\n",
        "Output: 2\n",
        "Example 3:\n",
        "\n",
        "Input: grid = [[1,1,1,1,1],[1,0,0,0,1],[1,0,1,0,1],[1,0,0,0,1],[1,1,1,1,1]]\n",
        "Output: 1"
      ],
      "metadata": {
        "id": "AZOeNJqiXGlg"
      }
    },
    {
      "cell_type": "code",
      "source": [
        "class Solution:\n",
        "    def shortestBridge(self, grid: List[List[int]]) -> int:\n",
        "        N = len(grid)\n",
        "        direct = [[0,1], [0,-1], [1,0], [-1,0]]\n",
        "        def invalid(r, c):\n",
        "            return r<0 or c<0 or r==N or c==N\n",
        "        visit = set()\n",
        "        def dfs(r, c):\n",
        "            if (invalid(r,c) or not grid[r][c] or (r, c) in visit):\n",
        "                return\n",
        "            visit.add((r,c))\n",
        "            for dr, dc in direct:\n",
        "                dfs(r+dr,c+dc)\n",
        "        def bfs():\n",
        "            res, q = 0, deque(visit)\n",
        "            while q:\n",
        "                for i in range(len(q)):\n",
        "                    r, c = q.popleft()\n",
        "                    for dr, dc in direct:\n",
        "                        curR, curC =r+dr, c+dc\n",
        "                        if invalid(curR, curC) or (curR, curC) in visit:\n",
        "                            continue\n",
        "                        if grid[curR][curC]:\n",
        "                            return res\n",
        "                        q.append([curR, curC])\n",
        "                        visit.add((curR, curC))\n",
        "                res+=1\n",
        "        for r in range(N):\n",
        "            for c in range(N):\n",
        "                if grid[r][c]:\n",
        "                    dfs(r, c)\n",
        "                    return bfs()\n"
      ],
      "metadata": {
        "id": "fdacqkxfXH0M"
      },
      "execution_count": null,
      "outputs": []
    },
    {
      "cell_type": "markdown",
      "source": [
        "This code is a solution to the \"Shortest Bridge\" problem on LeetCode. The goal of this problem is to find the length of the shortest path between two islands in a grid.\n",
        "\n",
        "Here's an explanation of how it works:\n",
        "\n",
        "**Overview**\n",
        "\n",
        "The algorithm consists of two main parts: DFS (Depth-First Search) and BFS (Breadth-First Search). The DFS part is used to mark all reachable cells from the starting island, while the BFS part is used to find the shortest bridge between two islands.\n",
        "\n",
        "**DFS**\n",
        "\n",
        "The `dfs` function takes a row `r` and column `c` as input and performs a depth-first search on the grid starting from that cell. The DFS function checks if the current cell is valid (i.e., within the grid boundaries), not visited before, and contains a 1 (which represents an island). If any of these conditions are not met, it returns immediately.\n",
        "\n",
        "If all conditions are met, it marks the current cell as visited by adding its coordinates to the `visit` set. Then, it recursively calls itself for each of its four neighboring cells (up, down, left, and right) to explore the adjacent islands.\n",
        "\n",
        "**BFS**\n",
        "\n",
        "The `bfs` function is used to find the shortest bridge between two islands. It maintains a queue of visited cells and iterates through them level by level. For each cell, it checks all four possible directions (up, down, left, and right). If a valid cell with value 0 (which represents an empty cell) is found, it returns the current distance `res` as the length of the shortest bridge.\n",
        "\n",
        "If no valid cell is found in any direction, it increments the distance `res` by 1 and adds all new unvisited cells to the queue. This process continues until either a bridge is found or all reachable cells from the starting island are visited.\n",
        "\n",
        "**Main Loop**\n",
        "\n",
        "The main loop iterates over each cell in the grid. If a cell contains an island (i.e., its value is 1), it calls the `dfs` function to mark all reachable cells from that island and then calls the `bfs` function to find the shortest bridge. The result is returned immediately.\n",
        "\n",
        "**Time Complexity**\n",
        "\n",
        "The time complexity of this algorithm can be broken down into two parts:\n",
        "\n",
        "*   DFS: In the worst case, the DFS function visits all unvisited cells in the grid once. This takes O(N \\* M) time, where N and M are the dimensions of the grid.\n",
        "*   BFS: The BFS function performs a level-order traversal of the visited cells. Since each cell has at most 4 neighbors (up, down, left, right), the maximum number of cells in the queue is bounded by O(N \\* M). In each iteration, it visits at most N \\* M cells.\n",
        "\n",
        "Therefore, the overall time complexity of this algorithm is O(N \\* M) + O(N \\* M) = O(2N\\*M), which simplifies to O(N \\* M).\n",
        "\n",
        "**Space Complexity**\n",
        "\n",
        "The space complexity can be broken down into two parts:\n",
        "\n",
        "*   DFS: The `visit` set stores at most N \\* M cells, so its space complexity is O(N \\* M).\n",
        "*   BFS: The queue of visited cells has a maximum size of O(N \\* M), and each cell requires O(1) extra memory.\n",
        "\n",
        "Therefore, the overall space complexity of this algorithm is O(N \\* M).\n",
        "\n",
        "I hope this explanation helps! Let me know if you have any further questions."
      ],
      "metadata": {
        "id": "G7LKTZu3YHjj"
      }
    },
    {
      "cell_type": "code",
      "source": [],
      "metadata": {
        "id": "42ID4x_MYH8t"
      },
      "execution_count": null,
      "outputs": []
    },
    {
      "cell_type": "markdown",
      "source": [
        "### **[Number of Substrings Containing All Three Characters](https://leetcode.com/problems/number-of-substrings-containing-all-three-characters/description/?envType=company&envId=facebook&favoriteSlug=facebook-thirty-days)**\n",
        "\n",
        "\n",
        "\n",
        "Given a string s consisting only of characters a, b and c.\n",
        "\n",
        "Return the number of substrings containing at least one occurrence of all these characters a, b and c.\n",
        "\n",
        "\n",
        "\n",
        "Example 1:\n",
        "\n",
        "Input: s = \"abcabc\"\n",
        "Output: 10\n",
        "Explanation: The substrings containing at least one occurrence of the characters a, b and c are \"abc\", \"abca\", \"abcab\", \"abcabc\", \"bca\", \"bcab\", \"bcabc\", \"cab\", \"cabc\" and \"abc\" (again).\n",
        "Example 2:\n",
        "\n",
        "Input: s = \"aaacb\"\n",
        "Output: 3\n",
        "Explanation: The substrings containing at least one occurrence of the characters a, b and c are \"aaacb\", \"aacb\" and \"acb\".\n",
        "Example 3:\n",
        "\n",
        "Input: s = \"abc\"\n",
        "Output: 1\n"
      ],
      "metadata": {
        "id": "Vych836FYJyB"
      }
    },
    {
      "cell_type": "code",
      "source": [
        "class Solution:\n",
        "    def numberOfSubstrings(self, s: str) -> int:\n",
        "        n = len(s)\n",
        "        freq = [0] * 3\n",
        "        res = 0\n",
        "\n",
        "        left = 0\n",
        "        for right in range(n):\n",
        "            char = s[right]\n",
        "            if char == 'a':\n",
        "                freq[0] += 1\n",
        "            elif char == 'b':\n",
        "                freq[1] += 1\n",
        "            elif char == 'c':\n",
        "                freq[2] += 1\n",
        "\n",
        "            while freq[0] > 0 and freq[1] > 0 and freq[2] > 0:\n",
        "                char = s[left]\n",
        "\n",
        "                if char == 'a':\n",
        "                    freq[0] -= 1\n",
        "                elif char == 'b':\n",
        "                    freq[1] -= 1\n",
        "                elif char == 'c':\n",
        "                    freq[2] -= 1\n",
        "\n",
        "                res += n - right\n",
        "                left += 1\n",
        "\n",
        "        return res"
      ],
      "metadata": {
        "id": "pCT0Ca99YKNE"
      },
      "execution_count": null,
      "outputs": []
    },
    {
      "cell_type": "markdown",
      "source": [
        "**Solution:**\n",
        "\n",
        "Initialize three frequency counters (freq[0], freq[1], and freq[2]) to 0.\n",
        "Iterate through the string, incrementing each frequency counter as we encounter a character.\n",
        "Once a window with all three characters is formed, calculate the number of substrings that can be formed by moving this window to the right.\n",
        "Return the total count of substrings that contain all three characters.\n",
        "\n",
        "\n",
        "**Time Complexity:** O(n), where n is the length of the string s. This is because we're making a single pass through the string.\n",
        "\n",
        "**Space Complexity**: O(1), as we only use a constant amount of space to store the frequency counters."
      ],
      "metadata": {
        "id": "gAY5SCZjeTDh"
      }
    },
    {
      "cell_type": "code",
      "source": [],
      "metadata": {
        "id": "uBM_qL2zf20h"
      },
      "execution_count": null,
      "outputs": []
    },
    {
      "cell_type": "markdown",
      "source": [],
      "metadata": {
        "id": "pXK6IQIcgAat"
      }
    },
    {
      "cell_type": "code",
      "source": [
        "class Solution:\n",
        "    def decodeString(self, s: str) -> str:\n",
        "        stack = []\n",
        "        for i in range(len(s)):\n",
        "            if s[i]!=\"]\":\n",
        "                stack.append(s[i])\n",
        "            else:\n",
        "                substr = \"\"\n",
        "                while stack[-1]!=\"[\":\n",
        "                    substr = stack.pop()+substr\n",
        "                stack.pop()\n",
        "                k = \"\"\n",
        "                while stack and stack[-1].isdigit():\n",
        "                    k = stack.pop()+k\n",
        "                stack.append(int(k)*substr)\n",
        "        return \"\".join(stack)\n"
      ],
      "metadata": {
        "id": "w7rTMU--rR4o"
      },
      "execution_count": null,
      "outputs": []
    },
    {
      "cell_type": "markdown",
      "source": [
        "**Initialization :**\n",
        "\n",
        "\n",
        "A stack is initialized to store characters from the input string s.\n",
        "\n",
        "Iteration : The code iterates over each character in the input string s. If the\n",
        "current character is not a closing bracket ], it is simply pushed onto the stack.\n",
        "\n",
        "Handling Closing Brackets : When an opening bracket [ or closing bracket ] is encountered, the following steps are taken:\n",
        "\n",
        "The characters inside the brackets are popped from the stack and stored in substr. This process continues until a closing bracket ] is found. At this point, all characters within the brackets have been pushed onto the stack.\n",
        "\n",
        "A new variable k is initialized to store the repeat number. This process involves popping digits off the stack until an opening bracket [ is encountered again, allowing us to collect these numbers and perform any necessary operations (in this case, multiplication).\n",
        "\n",
        "Multiplication : After collecting both the substring (substr) and the repeat number (k), they are multiplied together to produce the final decoded character.\n",
        "\n",
        "Result Addition : The result from step 3 is added to the stack as a new decoded character.\n",
        "\n",
        "\n",
        "**Time Complexity :** The overall time complexity of this solution is O(n), where n represents the number of characters in the input string. This is because we are iterating over each character once, performing operations on a stack.\n",
        "\n",
        "**Space Complexity :** The space complexity of this solution is also O(n). The reason for this lies in the usage of the stack to store decoded characters and intermediate results (like substr and k). In the worst-case scenario where all input characters remain on the stack after decoding, we end up with a total of n elements stored.\n"
      ],
      "metadata": {
        "id": "0i1uDUUysGLZ"
      }
    },
    {
      "cell_type": "code",
      "source": [],
      "metadata": {
        "id": "g8HTq_1xsKxT"
      },
      "execution_count": null,
      "outputs": []
    },
    {
      "cell_type": "markdown",
      "source": [
        "### **[Capacity To Ship Packages Within D Days](https://leetcode.com/problems/capacity-to-ship-packages-within-d-days/description/?envType=company&envId=facebook&favoriteSlug=facebook-thirty-days)**\n",
        "\n",
        "\n",
        "A conveyor belt has packages that must be shipped from one port to another within days days.\n",
        "\n",
        "The ith package on the conveyor belt has a weight of weights[i]. Each day, we load the ship with packages on the conveyor belt (in the order given by weights). We may not load more weight than the maximum weight capacity of the ship.\n",
        "\n",
        "Return the least weight capacity of the ship that will result in all the packages on the conveyor belt being shipped within days days.\n",
        "\n",
        " Example 1:\n",
        "\n",
        "Input: weights = [1,2,3,4,5,6,7,8,9,10], days = 5\n",
        "Output: 15\n",
        "Explanation: A ship capacity of 15 is the minimum to ship all the packages in 5 days like this:\n",
        "1st day: 1, 2, 3, 4, 5\n",
        "2nd day: 6, 7\n",
        "3rd day: 8\n",
        "4th day: 9\n",
        "5th day: 10\n",
        "\n",
        "Note that the cargo must be shipped in the order given, so using a ship of capacity 14 and splitting the packages into parts like (2, 3, 4, 5), (1, 6, 7), (8), (9), (10) is not allowed."
      ],
      "metadata": {
        "id": "7M7_mNwrwxKz"
      }
    },
    {
      "cell_type": "code",
      "source": [
        "class Solution:\n",
        "    def shipWithinDays(self, weights: List[int], days: int) -> int:\n",
        "        l,r = max(weights), sum(weights)\n",
        "        res=r\n",
        "        def canShip(cap):\n",
        "            ships, currCap = 1, cap\n",
        "            for w in weights:\n",
        "                if currCap-w<0:\n",
        "                    ships+=1\n",
        "                    currCap=cap\n",
        "                currCap-=w\n",
        "            return ships<=days\n",
        "        while l<=r:\n",
        "            cap = (l+r)//2\n",
        "            if canShip(cap):\n",
        "                res = min(res, cap)\n",
        "                r = cap-1\n",
        "            else:\n",
        "                l = cap+1\n",
        "        return res"
      ],
      "metadata": {
        "id": "0wUy2ma0wxdi"
      },
      "execution_count": null,
      "outputs": []
    },
    {
      "cell_type": "markdown",
      "source": [
        "Key Components\n",
        "\n",
        "l, r: The lower and upper bounds for the maximum capacity (cap). Initially set to the maximum weight (max(weights)) and the sum of all weights (sum(weights)), respectively.\n",
        "res: The result variable that will store the minimum capacity value found so far, initially set to the sum of all weights (r).\n",
        "canShip(cap): A helper function that determines whether it's possible to ship with a given capacity. It iterates through the weights array, and if there aren't enough resources left in the current capacity to handle each weight, a new ship is created.\n",
        "Algorithm\n",
        "\n",
        "Initialization : The code initializes the lower bound (l) to the maximum weight of any item (max(weights)) and the upper bound (r) to the sum of all weights (sum(weights)). It also sets res to the value of r.\n",
        "Binary Search : The algorithm then uses binary search to find the minimum capacity that satisfies the condition. In each iteration, it calculates the midpoint of the range (cap = (l+r)//2) and checks whether it's possible to ship with this capacity using the canShip(cap) function.\n",
        "Update Res and Bounds : If it is possible to ship with the current capacity (canShip(cap) == True), it updates the result value to be the minimum of the current capacity and the previous best capacity found (res = min(res, cap)). It also adjusts the upper bound for the next iteration by setting r = cap - 1.\n",
        "Repeat : The code repeats steps 2-3 until the lower bound is greater than the upper bound (l > r), indicating that a valid capacity range has been found.\n",
        "Return Result : Finally, it returns the result value stored in res, which represents the minimum capacity needed to deliver all goods within the specified number of days.\n",
        "\n",
        "\n",
        "**Time Complexity**\n",
        "\n",
        "The overall time complexity of this solution is O(n log m), where n is the total weight of goods and m is the maximum weight. The reason for this lies in the use of binary search, which reduces the search space by half at each iteration.\n",
        "\n",
        "The outer loop runs until l > r, which takes approximately log(m) iterations.\n",
        "For each iteration of the outer loop, there are two nested operations: calculating the midpoint (cap = (l+r)//2) and calling the helper function (canShip(cap)). These operations take O(n) time in total.\n",
        "\n",
        "\n",
        "**Space Complexity**\n",
        "\n",
        "The space complexity is O(1), as it only requires a constant amount of extra memory to store the result variable, lower bound, upper bound, and temporary variables. The input weights array is not considered part of the space complexity since it's already provided as input."
      ],
      "metadata": {
        "id": "M2_laZOIwx4p"
      }
    },
    {
      "cell_type": "code",
      "source": [],
      "metadata": {
        "id": "7pyM4yPXwyLH"
      },
      "execution_count": null,
      "outputs": []
    },
    {
      "cell_type": "markdown",
      "source": [
        "### **[Minimum Length of String After Operations](https://leetcode.com/problems/minimum-length-of-string-after-operations/?envType=daily-question&envId=2025-01-13)**"
      ],
      "metadata": {
        "id": "EwtYEk2a9oPZ"
      }
    },
    {
      "cell_type": "code",
      "source": [
        "class Solution:\n",
        "    def minimumLength(self, s: str) -> int:\n",
        "        # Step 1: Count the frequency of each character in the string\n",
        "        char_frequency_map = Counter(s)\n",
        "\n",
        "        # Step 2: Calculate the number of characters to delete\n",
        "        delete_count = 0\n",
        "        for frequency in char_frequency_map.values():\n",
        "            if frequency % 2 == 1:\n",
        "                # If frequency is odd, delete all except one\n",
        "                delete_count += frequency - 1\n",
        "            else:\n",
        "                # If frequency is even, delete all except two\n",
        "                delete_count += frequency - 2\n",
        "\n",
        "        # Step 3: Return the minimum length after deletions\n",
        "        return len(s) - delete_count"
      ],
      "metadata": {
        "id": "evt5bwcX9olr"
      },
      "execution_count": null,
      "outputs": []
    }
  ]
}