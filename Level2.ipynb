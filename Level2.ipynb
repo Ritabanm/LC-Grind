{
  "nbformat": 4,
  "nbformat_minor": 0,
  "metadata": {
    "colab": {
      "provenance": [],
      "authorship_tag": "ABX9TyOAIZoBDgVDZRgK7MuUq9ri",
      "include_colab_link": true
    },
    "kernelspec": {
      "name": "python3",
      "display_name": "Python 3"
    },
    "language_info": {
      "name": "python"
    }
  },
  "cells": [
    {
      "cell_type": "markdown",
      "metadata": {
        "id": "view-in-github",
        "colab_type": "text"
      },
      "source": [
        "<a href=\"https://colab.research.google.com/github/Ritabanm/LC-Grind/blob/main/Level2.ipynb\" target=\"_parent\"><img src=\"https://colab.research.google.com/assets/colab-badge.svg\" alt=\"Open In Colab\"/></a>"
      ]
    },
    {
      "cell_type": "markdown",
      "source": [
        "# **Medium**"
      ],
      "metadata": {
        "id": "IwtKVVqoSbjz"
      }
    },
    {
      "cell_type": "markdown",
      "source": [
        "**[647. Palindromic Substrings](https://leetcode.com/problems/palindromic-substrings/description/)**\n",
        "\n",
        "Given a string s, return the number of palindromic substrings in it.\n",
        "\n",
        "A string is a palindrome when it reads the same backward as forward.\n",
        "\n",
        "A substring is a contiguous sequence of characters within the string.\n",
        "\n",
        "\n",
        "\n",
        "Example 1:\n",
        "\n",
        "Input: s = \"abc\"\n",
        "Output: 3\n",
        "Explanation: Three palindromic strings: \"a\", \"b\", \"c\".\n",
        "Example 2:\n",
        "\n",
        "Input: s = \"aaa\"\n",
        "Output: 6\n",
        "Explanation: Six palindromic strings: \"a\", \"a\", \"a\", \"aa\", \"aa\", \"aaa\".\n"
      ],
      "metadata": {
        "id": "Hsx9qcMESbhg"
      }
    },
    {
      "cell_type": "code",
      "execution_count": null,
      "metadata": {
        "id": "Uq6rS_6PSYqJ"
      },
      "outputs": [],
      "source": [
        "class Solution:\n",
        "    def countSubstrings(self, s: str) -> int:\n",
        "        res = 0\n",
        "        for i in range(len(s)):\n",
        "            l = r = i\n",
        "            while l>=0 and r<len(s) and s[l] == s[r]:\n",
        "                res+=1\n",
        "                l-=1\n",
        "                r+=1\n",
        "            l = i\n",
        "            r = i+1\n",
        "            while l>=0 and r<len(s) and s[l]==s[r]:\n",
        "                res+=1\n",
        "                l-=1\n",
        "                r+=1\n",
        "        return res"
      ]
    },
    {
      "cell_type": "markdown",
      "source": [
        "### **Summary:**\n",
        "\n",
        "This Python solution uses two nested loops to count the number of substrings in a given string `s` that are palindromes. It iterates over each character in the string and expands outwards to find all possible palindromic substrings. The outer loop moves towards the start of the string, while the inner loop moves towards the end.\n",
        "\n",
        "**Time complexity:** O(n^2), where n is the length of the input string `s`. This is because there are two nested loops that iterate over each character in the string.\n",
        "\n",
        "**Space complexity:** O(1), as only a constant amount of space is used to store variables like `res` and the indices `l`, `r`, and `i`.\n"
      ],
      "metadata": {
        "id": "aAg9z7TyTy5M"
      }
    },
    {
      "cell_type": "markdown",
      "source": [
        "**[2270. Number of Ways to Split Array](https://leetcode.com/problems/number-of-ways-to-split-array/description/)**\n",
        "\n",
        "\n",
        "You are given a 0-indexed integer array nums of length n.\n",
        "\n",
        "nums contains a valid split at index i if the following are true:\n",
        "\n",
        "The sum of the first i + 1 elements is greater than or equal to the sum of the last n - i - 1 elements.\n",
        "There is at least one element to the right of i. That is, 0 <= i < n - 1.\n",
        "Return the number of valid splits in nums.\n",
        "\n",
        "\n",
        "\n",
        "Example 1:\n",
        "\n",
        "Input: nums = [10,4,-8,7]\n",
        "Output: 2\n",
        "Explanation:\n",
        "There are three ways of splitting nums into two non-empty parts:\n",
        "- Split nums at index 0. Then, the first part is [10], and its sum is 10. The second part is [4,-8,7], and its sum is 3. Since 10 >= 3, i = 0 is a valid split.\n",
        "- Split nums at index 1. Then, the first part is [10,4], and its sum is 14. The second part is [-8,7], and its sum is -1. Since 14 >= -1, i = 1 is a valid split.\n",
        "- Split nums at index 2. Then, the first part is [10,4,-8], and its sum is 6. The second part is [7], and its sum is 7. Since 6 < 7, i ="
      ],
      "metadata": {
        "id": "wW1xOt1b3K6B"
      }
    },
    {
      "cell_type": "code",
      "source": [
        "List = [10,4,-8,7]\n",
        "class Solution:\n",
        "    def waysToSplitArray(self, nums: list[int]) -> int:\n",
        "        right = sum(nums)\n",
        "        left = 0\n",
        "        res = 0\n",
        "        for i in range(len(nums)-1):\n",
        "            left+=nums[i]\n",
        "            right-=nums[i]\n",
        "            res +=1 if left>=right else 0\n",
        "        return res\n",
        "Solution.waysToSplitArray(Solution,List)"
      ],
      "metadata": {
        "id": "cNQLWE8MUYHG",
        "colab": {
          "base_uri": "https://localhost:8080/"
        },
        "outputId": "79dfe666-8dbc-4c77-f637-0d6e34dbcb87"
      },
      "execution_count": null,
      "outputs": [
        {
          "output_type": "execute_result",
          "data": {
            "text/plain": [
              "2"
            ]
          },
          "metadata": {},
          "execution_count": 20
        }
      ]
    },
    {
      "cell_type": "markdown",
      "source": [
        "## **Summary**\n",
        "**Initialize Sums:** Compute the total sum of the array (right) and initialize the left sum (left) as 0.\n",
        "\n",
        "**Iterate and Compare:** For each index, transfer the current element from right to left, and check if left >= right.\n",
        "\n",
        "**Count Valid Splits**: Increment the result count for every valid split where the condition holds.\n",
        "\n",
        "**Time Complexity:**\n",
        "\n",
        "**O(n):** The algorithm iterates through the array once, performing constant-time operations at each step.\n",
        "\n",
        "**Space Complexity:**\n",
        "\n",
        "**O(1):** Only a few variables (left, right, res) are used, and no additional data structures are required."
      ],
      "metadata": {
        "id": "Ye344uat8_89"
      }
    },
    {
      "cell_type": "markdown",
      "source": [
        "1769. **[Minimum Number of Operations to Move All Balls to Each Box](https://leetcode.com/problems/minimum-number-of-operations-to-move-all-balls-to-each-box/description/)**"
      ],
      "metadata": {
        "id": "9IHntXX3Fwpx"
      }
    },
    {
      "cell_type": "code",
      "source": [
        "class Solution:\n",
        "    def minOperations(self, boxes: str) -> List[int]:\n",
        "        res = [0]*len(boxes)\n",
        "        balls, moves = 0,0\n",
        "        for i in range(len(boxes)):\n",
        "            res[i] = balls+moves\n",
        "\n",
        "            moves = moves+balls\n",
        "            balls +=int(boxes[i])\n",
        "        balls, moves = 0,0\n",
        "        for i in reversed(range(len(boxes))):\n",
        "            res[i]+=balls+moves\n",
        "            moves = moves+balls\n",
        "            balls +=int(boxes[i])\n",
        "        return res"
      ],
      "metadata": {
        "id": "IGAs_7NT4nG3"
      },
      "execution_count": null,
      "outputs": []
    },
    {
      "cell_type": "markdown",
      "source": [
        "\n",
        "The provided Python code calculates the minimum number of operations required to move all \"balls\" in a string representation of boxes, where each box can contain a ball ('1') or no ball ('0'). The objective is to find out how many moves are required for each box to contain all the balls.\n",
        "\n",
        "Explanation of the Code:\n",
        "\n",
        "Initialization:\n",
        "\n",
        "res: A list initialized to zeros with the same length as boxes. It stores the result, i.e., the number of operations needed for each box.\n",
        "balls: A counter for the number of balls to the left of the current box.\n",
        "moves: Accumulates the total number of moves needed to bring all previous balls to the current position.\n",
        "First Pass (Left to Right):\n",
        "\n",
        "Iterate over each box from left to right.\n",
        "res[i] is updated with the sum of balls and moves. This captures the moves required to bring all balls from the left up to the current box.\n",
        "Update moves to include the current count of balls, because moving to the next box will require that many more moves.\n",
        "Update balls by adding the current box's balls (int(boxes[i])).\n",
        "Second Pass (Right to Left):\n",
        "\n",
        "Reset balls and moves to zero.\n",
        "Iterate over each box from right to left.\n",
        "Accumulate results in res[i] with the total moves needed to bring all balls from the right to the current box.\n",
        "Update moves and balls similarly to the first pass, but moving in reverse.\n",
        "\n",
        "**Time Complexity:**\n",
        "O(n): The algorithm performs two linear passes over the input string boxes. Each pass processes each box exactly once, resulting in a linear runtime relative to the size of the input.\n",
        "\n",
        "\n",
        "**Space Complexity:**\n",
        "O(n): Additional space is primarily used by the res list, which has the same length as the input string boxes. No other significant auxiliary space is used, so the space complexity is linear with respect to the input size.\n",
        "This method efficiently calculates the required moves for each box using a simple two-pass approach, optimizing the operation count by accumulating movement costs progressively from both directions."
      ],
      "metadata": {
        "id": "g-MfACGTDELe"
      }
    },
    {
      "cell_type": "code",
      "source": [],
      "metadata": {
        "id": "OhmDGQwh0a3D"
      },
      "execution_count": null,
      "outputs": []
    },
    {
      "cell_type": "markdown",
      "source": [
        "## **916. [Word Subsets](https://leetcode.com/problems/word-subsets/description/?envType=daily-question&envId=2025-01-10)**\n",
        "\n",
        "\n",
        "\n",
        "You are given two string arrays words1 and words2.\n",
        "\n",
        "A string b is a subset of string a if every letter in b occurs in a including multiplicity.\n",
        "\n",
        "For example, \"wrr\" is a subset of \"warrior\" but is not a subset of \"world\".\n",
        "A string a from words1 is universal if for every string b in words2, b is a subset of a.\n",
        "\n",
        "Return an array of all the universal strings in words1. You may return the answer in any order.\n",
        "\n",
        "\n",
        "\n",
        "**Example 1:**\n",
        "\n",
        "**Input:** words1 = [\"amazon\",\"apple\",\"facebook\",\"google\",\"leetcode\"], words2 = [\"e\",\"o\"]\n",
        "**Output:** [\"facebook\",\"google\",\"leetcode\"]\n",
        "\n",
        "**Example 2:**\n",
        "\n",
        "**Input:** words1 = [\"amazon\",\"apple\",\"facebook\",\"google\",\"leetcode\"], words2 = [\"l\",\"e\"]\n",
        "**Output:** [\"apple\",\"google\",\"leetcode\"]"
      ],
      "metadata": {
        "id": "Lj_LJ4P40bFZ"
      }
    },
    {
      "cell_type": "code",
      "source": [
        "class Solution:\n",
        "    def wordSubsets(self, words1: List[str], words2: List[str]) -> List[str]:\n",
        "        count_2 = defaultdict(int)\n",
        "        # Build the max frequency counter for all characters in words2\n",
        "        for w in words2:\n",
        "            count_w = Counter(w)\n",
        "            for c, cnt in count_w.items():\n",
        "                count_2[c] = max(count_2[c], cnt)\n",
        "\n",
        "        res = []\n",
        "        # Check each word in words1 if it meets the requirement\n",
        "        for w in words1:\n",
        "            count_w = Counter(w)\n",
        "            flag = True\n",
        "            for c, cnt in count_2.items():\n",
        "                if count_w[c] < cnt:\n",
        "                    flag = False\n",
        "                    break\n",
        "            # Append to result outside the character check loop\n",
        "            if flag:\n",
        "                res.append(w)\n",
        "        return res\n"
      ],
      "metadata": {
        "id": "tbvkQHno0jpq"
      },
      "execution_count": null,
      "outputs": []
    },
    {
      "cell_type": "markdown",
      "source": [
        "* We first create a count_2 dictionary that holds the highest number of times each character needs to appear across all words2 strings.\n",
        "\n",
        "* Then, for each word in words1, we create a frequency counter and check if it meets or exceeds the counts specified in count_2 for every character.\n",
        "\n",
        "* Only if a word satisfies all these conditions (flag remains True after checking all characters), it is considered universal and added to the result list.\n",
        "\n",
        "Certainly! Here's a brief overview of the time and space complexity for the solution:\n",
        "\n",
        "### **Time Complexity**\n",
        "- **Building the maximum frequency counter (`count_2`) for `words2`**: \\(O(N_2 \\times M_2)\\), where \\(N_2\\) is the number of words in `words2` and \\(M_2\\) is the average length of these words.\n",
        "- **Checking each word in `words1` against `count_2`**: \\(O(N_1 \\times (M_1 + K))\\), where \\(N_1\\) is the number of words in `words1`, \\(M_1\\) is the average length of these words, and \\(K\\) is the number of unique characters in all `words2`.\n",
        "\n",
        "Overall, the time complexity is \\(O(N_2 \\times M_2 + N_1 \\times (M_1 + K))\\).\n",
        "\n",
        "### **Space Complexity**\n",
        "- **For `count_2`**: \\(O(K)\\), where \\(K\\) is the number of unique characters across all `words2`.\n",
        "- **Temporary space for counters and result list**: Proportional to the unique characters in the processed word plus the space for storing results, which could include all words from `words1` in the worst case.\n",
        "\n",
        "Overall, the space complexity is \\(O(K + N_1)\\), where \\(K\\) includes the space for the maximum frequency counter and \\(N_1\\) is for storing the output list."
      ],
      "metadata": {
        "id": "TGbU2-lP1Us2"
      }
    },
    {
      "cell_type": "code",
      "source": [],
      "metadata": {
        "id": "_TdNuib51YmW"
      },
      "execution_count": null,
      "outputs": []
    }
  ]
}