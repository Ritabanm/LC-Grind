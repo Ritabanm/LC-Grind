{
  "nbformat": 4,
  "nbformat_minor": 0,
  "metadata": {
    "colab": {
      "provenance": [],
      "authorship_tag": "ABX9TyMSy1ZJuFTMYtvJoAncGcqR",
      "include_colab_link": true
    },
    "kernelspec": {
      "name": "python3",
      "display_name": "Python 3"
    },
    "language_info": {
      "name": "python"
    }
  },
  "cells": [
    {
      "cell_type": "markdown",
      "metadata": {
        "id": "view-in-github",
        "colab_type": "text"
      },
      "source": [
        "<a href=\"https://colab.research.google.com/github/Ritabanm/LC-Grind/blob/main/Level_3_Hard.ipynb\" target=\"_parent\"><img src=\"https://colab.research.google.com/assets/colab-badge.svg\" alt=\"Open In Colab\"/></a>"
      ]
    },
    {
      "cell_type": "markdown",
      "source": [
        "\n",
        "\n",
        "## **282**. **[Expression Add Operators](https://leetcode.com/problems/expression-add-operators/description/?envType=company&envId=facebook&favoriteSlug=facebook-thirty-days)**\n",
        "\n",
        "\n",
        "Given a string num that contains only digits and an integer target, return all possibilities to insert the binary operators '+', '-', and/or '*' between the digits of num so that the resultant expression evaluates to the target value.\n",
        "\n",
        "Note that operands in the returned expressions should not contain leading zeros.\n",
        "\n",
        "\n",
        "\n",
        "**Example 1:**\n",
        "\n",
        "**Input:** num = \"123\", target = 6\n",
        "**Output:** [\"1*2*3\",\"1+2+3\"]\n",
        "**Explanation:** Both \"1*2*3\" and \"1+2+3\" evaluate to 6.\n",
        "Example 2:\n",
        "\n",
        "**Input:** num = \"232\", target = 8\n",
        "**Output**: [\"2*3+2\",\"2+3*2\"]\n",
        "**Explanation**: Both \"2*3+2\" and \"2+3*2\" evaluate to 8.\n",
        "\n",
        "**Example 3:**\n",
        "\n",
        "**Input**: num = \"3456237490\", target = 9191\n",
        "**Output:** []\n",
        "**Explanation:** There are no expressions that can be created from \"3456237490\" to evaluate to 9191."
      ],
      "metadata": {
        "id": "a9aDRQW9-M6Z"
      }
    },
    {
      "cell_type": "code",
      "execution_count": null,
      "metadata": {
        "id": "F9FKG5jI-KP8"
      },
      "outputs": [],
      "source": [
        "class Solution:\n",
        "    def addOperators(self, num: str, target: int) -> List[str]:\n",
        "        res = []\n",
        "\n",
        "        def dfs(cur_idx, expression, cur_sum, prev_num):\n",
        "            if cur_idx == len(num):\n",
        "                if cur_sum == target:\n",
        "                    res.append(expression)\n",
        "                return\n",
        "\n",
        "            for i in range(cur_idx, len(num)):\n",
        "                cur_str = num[cur_idx:i+1]\n",
        "                if cur_str[0] == '0' and len(cur_str) > 1:\n",
        "                    break  # Skip leading zero numbers\n",
        "\n",
        "                cur_num = int(cur_str)\n",
        "                if cur_idx == 0:\n",
        "                    # Start of expression; no operator needed\n",
        "                    dfs(i+1, cur_str, cur_num, cur_num)\n",
        "                else:\n",
        "                    # Recursive calls for +, -, and *\n",
        "                    dfs(i+1, expression + '+' + cur_str, cur_sum + cur_num, cur_num)\n",
        "                    dfs(i+1, expression + '-' + cur_str, cur_sum - cur_num, -cur_num)\n",
        "                    dfs(i+1, expression + '*' + cur_str, cur_sum - prev_num + prev_num * cur_num, prev_num * cur_num)\n",
        "\n",
        "        # Start DFS from index 0 with an empty expression\n",
        "        dfs(0, \"\", 0, 0)\n",
        "        return res\n"
      ]
    },
    {
      "cell_type": "markdown",
      "source": [
        "**Explanation**\n",
        "\n",
        "\n",
        "Initialization: The function starts by initializing an empty list res to store valid expressions.\n",
        "\n",
        "DFS Function:\n",
        "\n",
        "cur_idx: Current index in num.\n",
        "\n",
        "expression: Current form of the expression being built.\n",
        "\n",
        "cur_sum: Current evaluation result of expression.\n",
        "\n",
        "prev_num: Last number in the expression, used for evaluating expressions involving multiplication.\n",
        "\n",
        "\n",
        "***Recursion Logic:***\n",
        "\n",
        "1. If cur_idx reaches the end of num and cur_sum equals target, append expression to res.\n",
        "\n",
        "2. Iterate through the string num starting from cur_idx, forming numbers cur_str.\n",
        "\n",
        "3. Skip numbers with leading zeros unless they are single '0'.\n",
        "On the first number, start the recursion without an operator. For subsequent numbers, explore adding +, -, and *.\n",
        "\n",
        "4. For multiplication, adjust the current sum by undoing the addition or subtraction of prev_num and adding the product of prev_num and cur_num.\n",
        "\n",
        "\n",
        "Complexity Analysis\n",
        "\n",
        "**Time Complexity:**\n",
        "𝑂\n",
        "(\n",
        "3\n",
        "𝑁\n",
        ")\n",
        "O(3\n",
        "N\n",
        " ), where\n",
        "𝑁\n",
        "N is the length of num. In the worst case, each position in num could lead to three recursive calls.\n",
        "\n",
        "**Space Complexity:**\n",
        "𝑂\n",
        "(\n",
        "𝑁\n",
        ")\n",
        "O(N) for the recursion call stack depth and storing the expression. Note that space could be higher if we consider the output space needed to store the results in res.\n",
        "\n",
        "This revised solution ensures correctness by handling edge cases like leading zeros and provides an efficient way to explore all possible expressions that meet the target."
      ],
      "metadata": {
        "id": "vNLe8ZKL-k5B"
      }
    },
    {
      "cell_type": "code",
      "source": [],
      "metadata": {
        "id": "SLbSHP6oCyzA"
      },
      "execution_count": null,
      "outputs": []
    },
    {
      "cell_type": "markdown",
      "source": [
        "### **Valid Palindrome III.**\n",
        "\n",
        "Given a string s and an integer k, return true if s is a k-palindrome.\n",
        "\n",
        "A string is k-palindrome if it can be transformed into a palindrome by removing at most k characters from it.\n",
        "\n",
        "\n",
        "\n",
        "Example 1:\n",
        "\n",
        "Input: s = \"abcdeca\", k = 2\n",
        "Output: true\n",
        "Explanation: Remove 'b' and 'e' characters.\n",
        "Example 2:\n",
        "\n",
        "Input: s = \"abbababa\", k = 1\n",
        "Output: true"
      ],
      "metadata": {
        "id": "PtC-GqNW_hyn"
      }
    },
    {
      "cell_type": "code",
      "source": [
        "class Solution:\n",
        "    def isValidPalindrome(self, s: str, k: int) -> bool:\n",
        "        self.string = s\n",
        "        if not k:\n",
        "            return self.is_palindrome(0, len(s)-1)\n",
        "\n",
        "        memo = {}\n",
        "        def helper(i,j,k):\n",
        "            if (i,j,k) in memo:\n",
        "                return memo[(i,j,k)]\n",
        "            elif not k:\n",
        "                memo[(i,j,k)] =self.is_palindrome(i, j)\n",
        "            else:\n",
        "                while i<j:\n",
        "                    if self.string[i]!=self.string[j]:\n",
        "                        memo[(i,j,k)] = helper(i+1, j, k-1) or helper(i,j-1, k-1)\n",
        "                        return memo[(i,j,k)]\n",
        "                    i+=1\n",
        "                    j-=1\n",
        "                memo[(i,j,k)] = True\n",
        "            return memo[(i,j,k)]\n",
        "        return helper(0,len(self.string)-1, k)\n",
        "\n",
        "    def is_palindrome(self, i, j):\n",
        "        while i<j:\n",
        "            if self.string[i]!=self.string[j]:\n",
        "                return False\n",
        "\n",
        "            i+=1\n",
        "            j-=1\n",
        "        return True\n"
      ],
      "metadata": {
        "id": "-b5NLiTN_l4H"
      },
      "execution_count": null,
      "outputs": []
    },
    {
      "cell_type": "markdown",
      "source": [
        "The Python code implements a method to determine if a string `s` can be transformed into a palindrome by removing at most `k` characters. It uses recursion with memoization to efficiently solve the problem.\n",
        "\n",
        "### Key Components of the Solution:\n",
        "\n",
        "1. **`isValidPalindrome` Function**: This is the primary function that initializes memoization and calls the recursive helper function.\n",
        "   \n",
        "2. **`is_palindrome` Helper Function**: This function checks if a substring of `s`, defined by indices `i` and `j`, is a palindrome. It iterates from both ends towards the center, comparing characters.\n",
        "\n",
        "3. **`helper` Recursive Function**: This function uses memoization to store results for specific subproblems `(i, j, k)` where `i` and `j` are the start and end indices of the substring, and `k` is the remaining number of removals allowed.\n",
        "   - If the result for `(i, j, k)` is already computed, it returns it from `memo`.\n",
        "   - If `k` is zero, it checks if the substring `s[i:j+1]` is a palindrome.\n",
        "   - If the characters at positions `i` and `j` are the same, it simply moves inward.\n",
        "   - If the characters differ, it recursively checks two possibilities:\n",
        "     - Remove the character at `i` and see if the resulting substring can form a palindrome with `k-1` removals.\n",
        "     - Remove the character at `j` and check similarly.\n",
        "\n",
        "4. **Memoization**: The `memo` dictionary is used to cache results of subproblems to avoid redundant calculations and thus reduce time complexity.\n",
        "\n",
        "### Time Complexity:\n",
        "The time complexity is O(n^2 * k) where `n` is the length of the string. This is because, for each pair `(i, j)`, we potentially compute results for each value of `k` from 1 up to `k`, and each computation involves constant time operations due to memoization.\n",
        "\n",
        "### Space Complexity:\n",
        "The space complexity is O(n^2 * k) due to the memoization dictionary that could potentially store an entry for each combination of `i`, `j`, and `k`. The recursive call stack will also use space, but this will be considerably less than the space used by the memoization dictionary in the worst case.\n",
        "\n",
        "This method is efficient for inputs where `n` and `k` are moderately sized, allowing the transformation check to be feasible within the problem constraints."
      ],
      "metadata": {
        "id": "i5wlodz2CXDg"
      }
    }
  ]
}