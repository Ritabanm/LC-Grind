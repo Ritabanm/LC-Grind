{
  "nbformat": 4,
  "nbformat_minor": 0,
  "metadata": {
    "colab": {
      "provenance": [],
      "authorship_tag": "ABX9TyPdNwTZYQENfDBgzgFv8ikn",
      "include_colab_link": true
    },
    "kernelspec": {
      "name": "python3",
      "display_name": "Python 3"
    },
    "language_info": {
      "name": "python"
    }
  },
  "cells": [
    {
      "cell_type": "markdown",
      "metadata": {
        "id": "view-in-github",
        "colab_type": "text"
      },
      "source": [
        "<a href=\"https://colab.research.google.com/github/Ritabanm/LC-Grind/blob/main/Level_3_Hard.ipynb\" target=\"_parent\"><img src=\"https://colab.research.google.com/assets/colab-badge.svg\" alt=\"Open In Colab\"/></a>"
      ]
    },
    {
      "cell_type": "markdown",
      "source": [
        "\n",
        "\n",
        "## **282**. **[Expression Add Operators](https://leetcode.com/problems/expression-add-operators/description/?envType=company&envId=facebook&favoriteSlug=facebook-thirty-days)**\n",
        "\n",
        "\n",
        "Given a string num that contains only digits and an integer target, return all possibilities to insert the binary operators '+', '-', and/or '*' between the digits of num so that the resultant expression evaluates to the target value.\n",
        "\n",
        "Note that operands in the returned expressions should not contain leading zeros.\n",
        "\n",
        "\n",
        "\n",
        "**Example 1:**\n",
        "\n",
        "**Input:** num = \"123\", target = 6\n",
        "**Output:** [\"1*2*3\",\"1+2+3\"]\n",
        "**Explanation:** Both \"1*2*3\" and \"1+2+3\" evaluate to 6.\n",
        "Example 2:\n",
        "\n",
        "**Input:** num = \"232\", target = 8\n",
        "**Output**: [\"2*3+2\",\"2+3*2\"]\n",
        "**Explanation**: Both \"2*3+2\" and \"2+3*2\" evaluate to 8.\n",
        "\n",
        "**Example 3:**\n",
        "\n",
        "**Input**: num = \"3456237490\", target = 9191\n",
        "**Output:** []\n",
        "**Explanation:** There are no expressions that can be created from \"3456237490\" to evaluate to 9191."
      ],
      "metadata": {
        "id": "a9aDRQW9-M6Z"
      }
    },
    {
      "cell_type": "code",
      "execution_count": null,
      "metadata": {
        "id": "F9FKG5jI-KP8"
      },
      "outputs": [],
      "source": [
        "class Solution:\n",
        "    def addOperators(self, num: str, target: int) -> List[str]:\n",
        "        res = []\n",
        "\n",
        "        def dfs(cur_idx, expression, cur_sum, prev_num):\n",
        "            if cur_idx == len(num):\n",
        "                if cur_sum == target:\n",
        "                    res.append(expression)\n",
        "                return\n",
        "\n",
        "            for i in range(cur_idx, len(num)):\n",
        "                cur_str = num[cur_idx:i+1]\n",
        "                if cur_str[0] == '0' and len(cur_str) > 1:\n",
        "                    break  # Skip leading zero numbers\n",
        "\n",
        "                cur_num = int(cur_str)\n",
        "                if cur_idx == 0:\n",
        "                    # Start of expression; no operator needed\n",
        "                    dfs(i+1, cur_str, cur_num, cur_num)\n",
        "                else:\n",
        "                    # Recursive calls for +, -, and *\n",
        "                    dfs(i+1, expression + '+' + cur_str, cur_sum + cur_num, cur_num)\n",
        "                    dfs(i+1, expression + '-' + cur_str, cur_sum - cur_num, -cur_num)\n",
        "                    dfs(i+1, expression + '*' + cur_str, cur_sum - prev_num + prev_num * cur_num, prev_num * cur_num)\n",
        "\n",
        "        # Start DFS from index 0 with an empty expression\n",
        "        dfs(0, \"\", 0, 0)\n",
        "        return res\n"
      ]
    },
    {
      "cell_type": "markdown",
      "source": [
        "**Explanation**\n",
        "\n",
        "\n",
        "Initialization: The function starts by initializing an empty list res to store valid expressions.\n",
        "\n",
        "DFS Function:\n",
        "\n",
        "cur_idx: Current index in num.\n",
        "\n",
        "expression: Current form of the expression being built.\n",
        "\n",
        "cur_sum: Current evaluation result of expression.\n",
        "\n",
        "prev_num: Last number in the expression, used for evaluating expressions involving multiplication.\n",
        "\n",
        "\n",
        "***Recursion Logic:***\n",
        "\n",
        "1. If cur_idx reaches the end of num and cur_sum equals target, append expression to res.\n",
        "\n",
        "2. Iterate through the string num starting from cur_idx, forming numbers cur_str.\n",
        "\n",
        "3. Skip numbers with leading zeros unless they are single '0'.\n",
        "On the first number, start the recursion without an operator. For subsequent numbers, explore adding +, -, and *.\n",
        "\n",
        "4. For multiplication, adjust the current sum by undoing the addition or subtraction of prev_num and adding the product of prev_num and cur_num.\n",
        "\n",
        "\n",
        "Complexity Analysis\n",
        "\n",
        "**Time Complexity:**\n",
        "𝑂\n",
        "(\n",
        "3\n",
        "𝑁\n",
        ")\n",
        "O(3\n",
        "N\n",
        " ), where\n",
        "𝑁\n",
        "N is the length of num. In the worst case, each position in num could lead to three recursive calls.\n",
        "\n",
        "**Space Complexity:**\n",
        "𝑂\n",
        "(\n",
        "𝑁\n",
        ")\n",
        "O(N) for the recursion call stack depth and storing the expression. Note that space could be higher if we consider the output space needed to store the results in res.\n",
        "\n",
        "This revised solution ensures correctness by handling edge cases like leading zeros and provides an efficient way to explore all possible expressions that meet the target."
      ],
      "metadata": {
        "id": "vNLe8ZKL-k5B"
      }
    },
    {
      "cell_type": "code",
      "source": [],
      "metadata": {
        "id": "J_9h-OZW-xu_"
      },
      "execution_count": null,
      "outputs": []
    }
  ]
}