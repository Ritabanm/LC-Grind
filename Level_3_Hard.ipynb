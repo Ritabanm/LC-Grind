{
  "nbformat": 4,
  "nbformat_minor": 0,
  "metadata": {
    "colab": {
      "provenance": [],
      "authorship_tag": "ABX9TyPd3TSwQIxGHeO40nJiSx10",
      "include_colab_link": true
    },
    "kernelspec": {
      "name": "python3",
      "display_name": "Python 3"
    },
    "language_info": {
      "name": "python"
    }
  },
  "cells": [
    {
      "cell_type": "markdown",
      "metadata": {
        "id": "view-in-github",
        "colab_type": "text"
      },
      "source": [
        "<a href=\"https://colab.research.google.com/github/Ritabanm/LC-Grind/blob/main/Level_3_Hard.ipynb\" target=\"_parent\"><img src=\"https://colab.research.google.com/assets/colab-badge.svg\" alt=\"Open In Colab\"/></a>"
      ]
    },
    {
      "cell_type": "markdown",
      "source": [
        "\n",
        "\n",
        "## **282**. **[Expression Add Operators](https://leetcode.com/problems/expression-add-operators/description/?envType=company&envId=facebook&favoriteSlug=facebook-thirty-days)**\n",
        "\n",
        "\n",
        "Given a string num that contains only digits and an integer target, return all possibilities to insert the binary operators '+', '-', and/or '*' between the digits of num so that the resultant expression evaluates to the target value.\n",
        "\n",
        "Note that operands in the returned expressions should not contain leading zeros.\n",
        "\n",
        "\n",
        "\n",
        "**Example 1:**\n",
        "\n",
        "**Input:** num = \"123\", target = 6\n",
        "**Output:** [\"1*2*3\",\"1+2+3\"]\n",
        "**Explanation:** Both \"1*2*3\" and \"1+2+3\" evaluate to 6.\n",
        "Example 2:\n",
        "\n",
        "**Input:** num = \"232\", target = 8\n",
        "**Output**: [\"2*3+2\",\"2+3*2\"]\n",
        "**Explanation**: Both \"2*3+2\" and \"2+3*2\" evaluate to 8.\n",
        "\n",
        "**Example 3:**\n",
        "\n",
        "**Input**: num = \"3456237490\", target = 9191\n",
        "**Output:** []\n",
        "**Explanation:** There are no expressions that can be created from \"3456237490\" to evaluate to 9191."
      ],
      "metadata": {
        "id": "a9aDRQW9-M6Z"
      }
    },
    {
      "cell_type": "code",
      "execution_count": null,
      "metadata": {
        "id": "F9FKG5jI-KP8"
      },
      "outputs": [],
      "source": [
        "class Solution:\n",
        "    def addOperators(self, num: str, target: int) -> List[str]:\n",
        "        res = []\n",
        "\n",
        "        def dfs(cur_idx, expression, cur_sum, prev_num):\n",
        "            if cur_idx == len(num):\n",
        "                if cur_sum == target:\n",
        "                    res.append(expression)\n",
        "                return\n",
        "\n",
        "            for i in range(cur_idx, len(num)):\n",
        "                cur_str = num[cur_idx:i+1]\n",
        "                if cur_str[0] == '0' and len(cur_str) > 1:\n",
        "                    break  # Skip leading zero numbers\n",
        "\n",
        "                cur_num = int(cur_str)\n",
        "                if cur_idx == 0:\n",
        "                    # Start of expression; no operator needed\n",
        "                    dfs(i+1, cur_str, cur_num, cur_num)\n",
        "                else:\n",
        "                    # Recursive calls for +, -, and *\n",
        "                    dfs(i+1, expression + '+' + cur_str, cur_sum + cur_num, cur_num)\n",
        "                    dfs(i+1, expression + '-' + cur_str, cur_sum - cur_num, -cur_num)\n",
        "                    dfs(i+1, expression + '*' + cur_str, cur_sum - prev_num + prev_num * cur_num, prev_num * cur_num)\n",
        "\n",
        "        # Start DFS from index 0 with an empty expression\n",
        "        dfs(0, \"\", 0, 0)\n",
        "        return res\n"
      ]
    },
    {
      "cell_type": "markdown",
      "source": [
        "**Explanation**\n",
        "\n",
        "\n",
        "Initialization: The function starts by initializing an empty list res to store valid expressions.\n",
        "\n",
        "DFS Function:\n",
        "\n",
        "cur_idx: Current index in num.\n",
        "\n",
        "expression: Current form of the expression being built.\n",
        "\n",
        "cur_sum: Current evaluation result of expression.\n",
        "\n",
        "prev_num: Last number in the expression, used for evaluating expressions involving multiplication.\n",
        "\n",
        "\n",
        "***Recursion Logic:***\n",
        "\n",
        "1. If cur_idx reaches the end of num and cur_sum equals target, append expression to res.\n",
        "\n",
        "2. Iterate through the string num starting from cur_idx, forming numbers cur_str.\n",
        "\n",
        "3. Skip numbers with leading zeros unless they are single '0'.\n",
        "On the first number, start the recursion without an operator. For subsequent numbers, explore adding +, -, and *.\n",
        "\n",
        "4. For multiplication, adjust the current sum by undoing the addition or subtraction of prev_num and adding the product of prev_num and cur_num.\n",
        "\n",
        "\n",
        "Complexity Analysis\n",
        "\n",
        "**Time Complexity:**\n",
        "𝑂\n",
        "(\n",
        "3\n",
        "𝑁\n",
        ")\n",
        "O(3\n",
        "N\n",
        " ), where\n",
        "𝑁\n",
        "N is the length of num. In the worst case, each position in num could lead to three recursive calls.\n",
        "\n",
        "**Space Complexity:**\n",
        "𝑂\n",
        "(\n",
        "𝑁\n",
        ")\n",
        "O(N) for the recursion call stack depth and storing the expression. Note that space could be higher if we consider the output space needed to store the results in res.\n",
        "\n",
        "This revised solution ensures correctness by handling edge cases like leading zeros and provides an efficient way to explore all possible expressions that meet the target."
      ],
      "metadata": {
        "id": "vNLe8ZKL-k5B"
      }
    },
    {
      "cell_type": "code",
      "source": [],
      "metadata": {
        "id": "SLbSHP6oCyzA"
      },
      "execution_count": null,
      "outputs": []
    },
    {
      "cell_type": "markdown",
      "source": [
        "### **Valid Palindrome III.**\n",
        "\n",
        "Given a string s and an integer k, return true if s is a k-palindrome.\n",
        "\n",
        "A string is k-palindrome if it can be transformed into a palindrome by removing at most k characters from it.\n",
        "\n",
        "\n",
        "\n",
        "Example 1:\n",
        "\n",
        "Input: s = \"abcdeca\", k = 2\n",
        "Output: true\n",
        "Explanation: Remove 'b' and 'e' characters.\n",
        "Example 2:\n",
        "\n",
        "Input: s = \"abbababa\", k = 1\n",
        "Output: true"
      ],
      "metadata": {
        "id": "PtC-GqNW_hyn"
      }
    },
    {
      "cell_type": "code",
      "source": [
        "class Solution:\n",
        "    def isValidPalindrome(self, s: str, k: int) -> bool:\n",
        "        self.string = s\n",
        "        if not k:\n",
        "            return self.is_palindrome(0, len(s)-1)\n",
        "\n",
        "        memo = {}\n",
        "        def helper(i,j,k):\n",
        "            if (i,j,k) in memo:\n",
        "                return memo[(i,j,k)]\n",
        "            elif not k:\n",
        "                memo[(i,j,k)] =self.is_palindrome(i, j)\n",
        "            else:\n",
        "                while i<j:\n",
        "                    if self.string[i]!=self.string[j]:\n",
        "                        memo[(i,j,k)] = helper(i+1, j, k-1) or helper(i,j-1, k-1)\n",
        "                        return memo[(i,j,k)]\n",
        "                    i+=1\n",
        "                    j-=1\n",
        "                memo[(i,j,k)] = True\n",
        "            return memo[(i,j,k)]\n",
        "        return helper(0,len(self.string)-1, k)\n",
        "\n",
        "    def is_palindrome(self, i, j):\n",
        "        while i<j:\n",
        "            if self.string[i]!=self.string[j]:\n",
        "                return False\n",
        "\n",
        "            i+=1\n",
        "            j-=1\n",
        "        return True\n"
      ],
      "metadata": {
        "id": "-b5NLiTN_l4H"
      },
      "execution_count": null,
      "outputs": []
    },
    {
      "cell_type": "markdown",
      "source": [
        "The Python code implements a method to determine if a string `s` can be transformed into a palindrome by removing at most `k` characters. It uses recursion with memoization to efficiently solve the problem.\n",
        "\n",
        "### Key Components of the Solution:\n",
        "\n",
        "1. **`isValidPalindrome` Function**: This is the primary function that initializes memoization and calls the recursive helper function.\n",
        "   \n",
        "2. **`is_palindrome` Helper Function**: This function checks if a substring of `s`, defined by indices `i` and `j`, is a palindrome. It iterates from both ends towards the center, comparing characters.\n",
        "\n",
        "3. **`helper` Recursive Function**: This function uses memoization to store results for specific subproblems `(i, j, k)` where `i` and `j` are the start and end indices of the substring, and `k` is the remaining number of removals allowed.\n",
        "   - If the result for `(i, j, k)` is already computed, it returns it from `memo`.\n",
        "   - If `k` is zero, it checks if the substring `s[i:j+1]` is a palindrome.\n",
        "   - If the characters at positions `i` and `j` are the same, it simply moves inward.\n",
        "   - If the characters differ, it recursively checks two possibilities:\n",
        "     - Remove the character at `i` and see if the resulting substring can form a palindrome with `k-1` removals.\n",
        "     - Remove the character at `j` and check similarly.\n",
        "\n",
        "4. **Memoization**: The `memo` dictionary is used to cache results of subproblems to avoid redundant calculations and thus reduce time complexity.\n",
        "\n",
        "### Time Complexity:\n",
        "The time complexity is O(n^2 * k) where `n` is the length of the string. This is because, for each pair `(i, j)`, we potentially compute results for each value of `k` from 1 up to `k`, and each computation involves constant time operations due to memoization.\n",
        "\n",
        "### Space Complexity:\n",
        "The space complexity is O(n^2 * k) due to the memoization dictionary that could potentially store an entry for each combination of `i`, `j`, and `k`. The recursive call stack will also use space, but this will be considerably less than the space used by the memoization dictionary in the worst case.\n",
        "\n",
        "This method is efficient for inputs where `n` and `k` are moderately sized, allowing the transformation check to be feasible within the problem constraints."
      ],
      "metadata": {
        "id": "i5wlodz2CXDg"
      }
    },
    {
      "cell_type": "code",
      "source": [],
      "metadata": {
        "id": "cvM0EDHfPi6C"
      },
      "execution_count": null,
      "outputs": []
    },
    {
      "cell_type": "markdown",
      "source": [
        "### [ Longest Increasing Path in a Matrix](https://leetcode.com/problems/longest-increasing-path-in-a-matrix/description/?envType=company&envId=facebook&favoriteSlug=facebook-thirty-days)\n",
        "\n",
        "\n",
        "Given an m x n integers matrix, return the length of the longest increasing path in matrix.\n",
        "\n",
        "From each cell, you can either move in four directions: left, right, up, or down. You may not move diagonally or move outside the boundary (i.e., wrap-around is not allowed)."
      ],
      "metadata": {
        "id": "cmTOCbLYPjEs"
      }
    },
    {
      "cell_type": "code",
      "source": [
        "class Solution:\n",
        "    def longestIncreasingPath(self, matrix: List[List[int]]) -> int:\n",
        "        rows, cols = len(matrix), len(matrix[0])\n",
        "        dp = {}\n",
        "\n",
        "        def dfs(r, c, prevval):\n",
        "            if(r<0 or r== rows or c<0 or c==cols or matrix[r][c]<=prevval):\n",
        "                return 0\n",
        "            if(r,c) in dp:\n",
        "                return dp[(r,c)]\n",
        "            res = 1\n",
        "\n",
        "            res = max(res, 1+dfs(r+1,c, matrix[r][c]))\n",
        "            res = max(res, 1+dfs(r-1,c, matrix[r][c]))\n",
        "            res = max(res, 1+dfs(r,c+1, matrix[r][c]))\n",
        "            res = max(res, 1+dfs(r,c-1, matrix[r][c]))\n",
        "\n",
        "            dp[(r,c)] = res\n",
        "            return res\n",
        "        for r in range(rows):\n",
        "            for c in range(cols):\n",
        "                dfs(r,c, -1)\n",
        "        return max(dp.values())"
      ],
      "metadata": {
        "id": "o3c1gXF7PpjV"
      },
      "execution_count": null,
      "outputs": []
    },
    {
      "cell_type": "markdown",
      "source": [
        "The provided Python code implements a depth-first search (DFS) approach to find the longest increasing path in a matrix. Here's a breakdown of the code and its complexities:\n",
        "\n",
        "### Explanation\n",
        "- **Data Structures**: A dictionary `dp` is used to memoize the results of the DFS to avoid recomputing the length of the path from each cell.\n",
        "- **DFS Function**: The `dfs` function checks if the current cell is valid and the value is greater than the previous cell's value. It then recursively calculates the longest path from the current cell by exploring up, down, left, and right neighbors.\n",
        "- **Memoization**: If a result for a cell `(r, c)` has been computed before, it is retrieved from `dp`, saving computation time.\n",
        "- **Global Computation**: The main part of the function loops through each cell of the matrix to initiate a DFS call if the longest path starting from that cell hasn't been calculated already.\n",
        "\n",
        "### Time Complexity\n",
        "- The time complexity is O(m*n), where `m` is the number of rows and `n` is the number of columns. Each cell is processed once due to memoization, ensuring that each cell's DFS exploration is not repeated unnecessarily.\n",
        "\n",
        "### Space Complexity\n",
        "- The space complexity is also O(m*n) due to the memoization dictionary `dp` that may potentially store an entry for each cell in the matrix. Additionally, the recursion stack's maximum depth can be O(m*n) in the worst case (though typically much less due to path constraints).\n",
        "\n",
        "This approach efficiently handles the problem by leveraging recursion with memoization, ensuring that paths are not recalculated multiple times."
      ],
      "metadata": {
        "id": "XuvlqZCzSROG"
      }
    },
    {
      "cell_type": "code",
      "source": [],
      "metadata": {
        "id": "ooNanqSr7Dzv"
      },
      "execution_count": null,
      "outputs": []
    },
    {
      "cell_type": "markdown",
      "source": [
        "## [Word Ladder](https://leetcode.com/problems/word-ladder/description/?envType=company&envId=facebook&favoriteSlug=facebook-thirty-days)\n",
        "\n",
        "\n",
        "\n",
        "A transformation sequence from word beginWord to word endWord using a dictionary wordList is a sequence of words beginWord -> s1 -> s2 -> ... -> sk such that:\n",
        "\n",
        "Every adjacent pair of words differs by a single letter.\n",
        "Every si for 1 <= i <= k is in wordList. Note that beginWord does not need to be in wordList.\n",
        "sk == endWord\n",
        "Given two words, beginWord and endWord, and a dictionary wordList, return the number of words in the shortest transformation sequence from beginWord to endWord, or 0 if no such sequence exists.\n",
        "\n",
        "\n",
        "\n",
        "Example 1:\n",
        "\n",
        "Input: beginWord = \"hit\", endWord = \"cog\", wordList = [\"hot\",\"dot\",\"dog\",\"lot\",\"log\",\"cog\"]\n",
        "Output: 5\n",
        "Explanation: One shortest transformation sequence is \"hit\" -> \"hot\" -> \"dot\" -> \"dog\" -> cog\", which is 5 words long.\n",
        "Example 2:\n",
        "\n",
        "Input: beginWord = \"hit\", endWord = \"cog\", wordList = [\"hot\",\"dot\",\"dog\",\"lot\",\"log\"]\n",
        "Output: 0\n",
        "Explanation: The endWord \"cog\" is not in wordList, therefore there is no valid transformation sequence.\n"
      ],
      "metadata": {
        "id": "Rw-_yYY57EfP"
      }
    },
    {
      "cell_type": "code",
      "source": [
        "class Solution:\n",
        "    def ladderLength(self, beginWord: str, endWord: str, wordList: List[str]) -> int:\n",
        "        if endWord not in wordList:\n",
        "            return 0\n",
        "        nei = collections.defaultdict(list)\n",
        "        wordList.append(beginWord)\n",
        "        for word in wordList:\n",
        "            for j in range(len(word)):\n",
        "                pattern = word[:j] + \"*\" + word[j+1:]\n",
        "                nei[pattern].append(word)\n",
        "        visit = set([beginWord])\n",
        "        q = deque([beginWord])\n",
        "        res = 1\n",
        "        while q:\n",
        "            for i in range(len(q)):\n",
        "                word = q.popleft()\n",
        "\n",
        "                if word ==endWord:\n",
        "                    return res\n",
        "                for j in range(len(word)):\n",
        "                    pattern = word[:j] + \"*\" + word[j+1:]\n",
        "                    for neiWord in nei[pattern]:\n",
        "                        if neiWord not in visit:\n",
        "                            visit.add(neiWord)\n",
        "                            q.append(neiWord)\n",
        "            res+=1\n",
        "        return 0\n"
      ],
      "metadata": {
        "id": "4GcxVaOB7Kgn"
      },
      "execution_count": null,
      "outputs": []
    },
    {
      "cell_type": "markdown",
      "source": [
        "The provided Python function solves the \"Word Ladder\" problem using a breadth-first search (BFS) approach. Let's break down how the function works and then discuss its time and space complexity:\n",
        "\n",
        "### Function Breakdown\n",
        "1. **Initial Checks**:\n",
        "   - It first checks if `endWord` is in `wordList`. If not, it returns 0 because no transformation sequence can be completed.\n",
        "\n",
        "2. **Building Neighbors**:\n",
        "   - A dictionary (`nei`) is built to keep track of all possible words from `wordList` that can be formed by changing one letter at a time. This is done by replacing each character of the word with a wildcard character \"*\". For example, \"log\" would produce \"*og\", \"l*g\", and \"lo*\".\n",
        "   - This helps in quickly finding all adjacent words (neighbors) during the BFS.\n",
        "\n",
        "3. **Breadth-First Search (BFS)**:\n",
        "   - A queue initialized with `beginWord` is used to explore each word level by level.\n",
        "   - For each word, it's checked if it's the `endWord`. If so, the current depth (or distance) `res` is returned.\n",
        "   - Otherwise, for each pattern of the current word, it checks all neighboring words (connected in the `nei` dictionary). If a neighbor hasn't been visited, it's added to the queue.\n",
        "   - After exploring all words at the current depth, `res` is incremented.\n",
        "\n",
        "4. **Return**:\n",
        "   - If the BFS completes without finding the `endWord`, the function returns 0, indicating no valid transformation sequence exists.\n",
        "\n",
        "### Time Complexity\n",
        "- **Building Neighbors**: \\(O(N \\times M^2)\\), where \\(N\\) is the number of words in `wordList` (including `beginWord` appended to it) and \\(M\\) is the length of each word. This accounts for the \\(M\\) patterns per word and checking every character in the word.\n",
        "- **BFS Execution**: Each word can enter the queue once, and for each word, checking all \\(M\\) patterns and the possible words for those patterns (at most \\(N\\) in the worst case if all patterns match all words) leads to \\(O(N \\times M \\times W)\\), where \\(W\\) is the average number of words per pattern.\n",
        "\n",
        "### Space Complexity\n",
        "- **Neighbor Dictionary (`nei`)**: Could hold at most \\(M \\times N\\) entries, with each entry containing a list of words that match the pattern, potentially storing \\(N\\) words in each list. Thus, the space complexity can also be significant: \\(O(N \\times M \\times N)\\) in the worst-case scenario due to all words matching all patterns.\n",
        "- **BFS Structures**: The queue and the visited set can hold at most \\(N\\) elements, leading to \\(O(N)\\).\n",
        "\n",
        "### Summary\n",
        "The approach is effective for smaller word lists but might become inefficient both in time and space with large word lists or long words due to the quadratic dependency on the number of words and the length of words. This algorithm ensures that we find the shortest transformation sequence efficiently using BFS, which explores all possible transformations level by level."
      ],
      "metadata": {
        "id": "RhLpLfv5_QAA"
      }
    },
    {
      "cell_type": "markdown",
      "source": [
        "### **Solution 2: BFS**"
      ],
      "metadata": {
        "id": "2EF8M6g4ID2g"
      }
    },
    {
      "cell_type": "code",
      "source": [
        "from collections import defaultdict, deque\n",
        "\n",
        "class Solution:\n",
        "    def ladderLength(self, beginWord: str, endWord: str, wordList: List[str]) -> int:\n",
        "        if beginWord == endWord or not wordList or endWord not in wordList:\n",
        "            return 0\n",
        "\n",
        "        graph = defaultdict(list)\n",
        "        wordList.append(beginWord)\n",
        "        for word in wordList:\n",
        "            for i in range(len(word)):\n",
        "                transform = word[:i] + \"*\" + word[i+1:]\n",
        "                graph[transform].append(word)\n",
        "\n",
        "        queue = deque([(beginWord, 1)])\n",
        "        visited = set([beginWord])\n",
        "\n",
        "        while queue:\n",
        "            word, distance = queue.popleft()\n",
        "            if word == endWord:\n",
        "                return distance\n",
        "            for i in range(len(word)):\n",
        "                transform = word[:i] + \"*\" + word[i+1:]\n",
        "                for neighbor in graph[transform]:\n",
        "                    if neighbor not in visited:\n",
        "                        visited.add(neighbor)\n",
        "                        queue.append((neighbor, distance + 1))\n",
        "\n",
        "        return 0\n"
      ],
      "metadata": {
        "id": "H6vIjXX__i0L"
      },
      "execution_count": null,
      "outputs": []
    },
    {
      "cell_type": "markdown",
      "source": [
        "Certainly! Below is a clean version of the Python code you've described for solving the \"Word Ladder\" problem, along with a brief summary of its time and space complexities.\n",
        "\n",
        "### Python Code Implementation\n",
        "\n",
        "```python\n",
        "from collections import defaultdict, deque\n",
        "\n",
        "class Solution:\n",
        "    def ladderLength(self, beginWord: str, endWord: str, wordList: List[str]) -> int:\n",
        "        if beginWord == endWord or not wordList or endWord not in wordList:\n",
        "            return 0\n",
        "        \n",
        "        graph = defaultdict(list)\n",
        "        wordList.append(beginWord)\n",
        "        for word in wordList:\n",
        "            for i in range(len(word)):\n",
        "                transform = word[:i] + \"*\" + word[i+1:]\n",
        "                graph[transform].append(word)\n",
        "        \n",
        "        queue = deque([(beginWord, 1)])\n",
        "        visited = set([beginWord])\n",
        "        \n",
        "        while queue:\n",
        "            word, distance = queue.popleft()\n",
        "            if word == endWord:\n",
        "                return distance\n",
        "            for i in range(len(word)):\n",
        "                transform = word[:i] + \"*\" + word[i+1:]\n",
        "                for neighbor in graph[transform]:\n",
        "                    if neighbor not in visited:\n",
        "                        visited.add(neighbor)\n",
        "                        queue.append((neighbor, distance + 1))\n",
        "        \n",
        "        return 0\n",
        "```\n",
        "\n",
        "### Summary of the Approach\n",
        "\n",
        "The solution uses a breadth-first search (BFS) to find the shortest path from `beginWord` to `endWord` where each transformation changes only one letter and the new word must be in the provided `wordList`.\n",
        "\n",
        "1. **Graph Construction**: Intermediate representations of words are created by replacing each character with \"*\", and these patterns are used as keys in a dictionary to connect words that can be transformed into one another.\n",
        "\n",
        "2. **BFS Traversal**: BFS is conducted starting from the `beginWord`, exploring all possible transformations. Each word visited is tracked to avoid revisiting and the sequence length is incremented at each level of BFS traversal.\n",
        "\n",
        "### Time Complexity\n",
        "- **O(N \\times M^2)**: Where \\( N \\) is the number of words in the `wordList` (including `beginWord`) and \\( M \\) is the length of each word. The complexity arises from constructing the graph where each word's transformation needs to be computed and stored.\n",
        "\n",
        "### Space Complexity\n",
        "- **O(N \\times M)**: Mainly due to the storage required for the graph and the queue. The graph might contain \\( M \\) different keys for each word's transformations, with each key pointing to potentially multiple words.\n",
        "\n",
        "This solution efficiently finds the shortest transformation sequence using a combination of graph-based preprocessing and a systematic BFS approach, handling the complexity through structured data storage and traversal methods."
      ],
      "metadata": {
        "id": "rZ163EgXIdO9"
      }
    }
  ]
}